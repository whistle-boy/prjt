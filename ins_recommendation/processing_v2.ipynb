{
 "cells": [
  {
   "cell_type": "markdown",
   "metadata": {},
   "source": [
    "# 환경설정"
   ]
  },
  {
   "cell_type": "code",
   "execution_count": 19,
   "metadata": {},
   "outputs": [],
   "source": [
    "import os\n",
    "import numpy as np\n",
    "import pandas as pd\n",
    "import matplotlib.pyplot as plt\n",
    "import seaborn as sns\n",
    "from matplotlib import font_manager, rc\n",
    "%matplotlib inline\n",
    "# from functools import reduce\n",
    "\n",
    "# set font\n",
    "font_name = font_manager.FontProperties(\n",
    "    fname='c:/Windows/Fonts/malgun.ttf').get_name()\n",
    "rc('font', family=font_name)\n",
    "# matplotlib.rcParams['axes.unicode_minus'] = False\n",
    "sns.set(font=font_name,\n",
    "        rc={'axes.unicode_minus': False})  # to show negative sign on graphs\n",
    "\n",
    "# set option\n",
    "pd.set_option('display.max_rows', 100)\n",
    "pd.set_option('display.max_columns', 100)\n",
    "pd.set_option('display.precision', 2)\n"
   ]
  },
  {
   "cell_type": "markdown",
   "metadata": {},
   "source": [
    "# 우편번호"
   ]
  },
  {
   "cell_type": "code",
   "execution_count": 2,
   "metadata": {},
   "outputs": [],
   "source": [
    "address = pd.read_csv('./data/raw/우편번호_21.csv', encoding='cp949')\n",
    "# extract '도이름', '시군구이름'\n",
    "address = address.groupby(['도이름', '시군구이름']).size().reset_index().iloc[:,:2]\n",
    "# rename\n",
    "address = address.rename(columns={'도이름': '시도명', '시군구이름': '시군구명'})\n",
    "# processing 세종시\n",
    "address.loc[address['시도명'] == '세종특별자치시', '시군구명'] = '세종시'\n",
    "# save\n",
    "address.to_csv('./data/processed/address.csv', encoding='cp949', index=False)\n"
   ]
  },
  {
   "cell_type": "code",
   "execution_count": 3,
   "metadata": {},
   "outputs": [],
   "source": [
    "check1 = set()\n",
    "check2 = set()\n",
    "# check by address\n",
    "def check(dataframe):\n",
    "    check_address = address['시도명']+' '+address['시군구명']\n",
    "    check_dataframe = dataframe['시도명']+' '+dataframe['시군구명']\n",
    "    result1 = set(check_address) - set(check_dataframe)\n",
    "    check1.update(result1)\n",
    "    result2 = set(check_dataframe) - set(check_address)\n",
    "    check2.update(result2)\n",
    "    return print(f'result1\\n{result1}\\n\\nresult2\\n{result2}')\n"
   ]
  },
  {
   "cell_type": "markdown",
   "metadata": {},
   "source": [
    "# 건강생활실천율"
   ]
  },
  {
   "cell_type": "code",
   "execution_count": 4,
   "metadata": {},
   "outputs": [],
   "source": [
    "# combine first two rows\n",
    "healthy_life = pd.read_csv(\n",
    "    './data/raw/건강생활실천율_17-20.csv', header=[0, 1], encoding='cp949')\n",
    "healthy_life.columns = healthy_life.columns.map('_'.join)\n",
    "# feature selection\n",
    "columns = ['시군구별(1)_시군구별(1)', '시군구별(2)_시군구별(2)', '시군구별(3)_시군구별(3)',\n",
    "           '2017_조율 (%)', '2018_조율 (%)', '2019_조율 (%)', '2020_조율 (%)']\n",
    "healthy_life = healthy_life[columns]\n",
    "# drop '소계' in (2)\n",
    "condition = (healthy_life['시군구별(2)_시군구별(2)'].str.contains('소계') == False)\n",
    "healthy_life = healthy_life.loc[condition]\n",
    "# 소계 replace with '' in (3)\n",
    "healthy_life['시군구별(3)_시군구별(3)'] = healthy_life['시군구별(3)_시군구별(3)'].str.replace(\n",
    "    '소계', '')\n",
    "# combine 시군구 (2) and (3)\n",
    "healthy_life['시군구별(2)_시군구별(2)'] = healthy_life['시군구별(2)_시군구별(2)'] + ' ' + \\\n",
    "    healthy_life['시군구별(3)_시군구별(3)']\n",
    "healthy_life = healthy_life.drop('시군구별(3)_시군구별(3)', axis='columns')\n",
    "# rename\n",
    "healthy_life = healthy_life.rename(\n",
    "    columns={'시군구별(1)_시군구별(1)': '시도명', '시군구별(2)_시군구별(2)': '시군구명'})\n",
    "# rstrip\n",
    "healthy_life['시군구명'] = healthy_life['시군구명'].str.rstrip()\n",
    "# save\n",
    "healthy_life.to_csv('./data/processed/healthy_life.csv', encoding='cp949', index=False)\n"
   ]
  },
  {
   "cell_type": "code",
   "execution_count": 5,
   "metadata": {},
   "outputs": [
    {
     "name": "stdout",
     "output_type": "stream",
     "text": [
      "result1\n",
      "{'경기도 여주군', '경상남도 창원시 진해구', '충청남도 천안시 서북구', '인천광역시 남구', '전라북도 전주시 완산구', '경상남도 창원시 성산구', '충청북도 청원군', '경상남도 창원시 의창구', '전라북도 전주시 덕진구', '충청남도 천안시 동남구', '경상남도 창원시 마산합포구', '경상남도 창원시 마산회원구'}\n",
      "\n",
      "result2\n",
      "{'인천광역시 미추홀구', '경기도 남양주시 남양주 풍양', '경기도 평택시 송탄', '제주특별자치도 제주시 제주', '경기도 수원시', '경상북도 구미시 구미', '경상남도 창원시 진해', '경기도 고양시', '경상북도 포항시', '경상북도 구미시 선산', '충청북도 청주시 청원구', '제주특별자치도 서귀포시 서부', '제주특별자치도 제주시 서부', '경상남도 창원시', '경상남도 창원시 마산', '경기도 안양시', '경상남도 창원시 창원', '경기도 용인시', '제주특별자치도 서귀포시 동부', '경기도 남양주시 남양주', '경기도 안산시', '경기도 부천시', '경기도 평택시 평택', '제주특별자치도 서귀포시 서귀포', '제주특별자치도 제주시 동부', '경기도 성남시', '충청남도 천안시', '전라북도 전주시', '충청북도 청주시', '충청북도 청주시 서원구', '경기도 여주시'}\n"
     ]
    }
   ],
   "source": [
    "check(healthy_life)\n"
   ]
  },
  {
   "cell_type": "markdown",
   "metadata": {},
   "source": [
    "# 합계출산율"
   ]
  },
  {
   "cell_type": "code",
   "execution_count": 6,
   "metadata": {},
   "outputs": [],
   "source": [
    "# use Excel to preprocess\n",
    "childbirth = pd.read_csv('./data/raw/합계출산율_17-20.csv', encoding='cp949')\n",
    "# save\n",
    "childbirth.to_csv('./data/processed/childbirth.csv',\n",
    "                  encoding='cp949', index=False)\n"
   ]
  },
  {
   "cell_type": "code",
   "execution_count": 7,
   "metadata": {},
   "outputs": [
    {
     "name": "stdout",
     "output_type": "stream",
     "text": [
      "result1\n",
      "{'경기도 성남시 수정구', '충청북도 청주시 흥덕구', '경기도 수원시 권선구', '경상남도 창원시 성산구', '경상남도 창원시 의창구', '경상남도 창원시 마산합포구', '경기도 안양시 동안구', '경상남도 창원시 마산회원구', '경기도 용인시 수지구', '경기도 고양시 일산서구', '충청남도 천안시 서북구', '전라북도 전주시 완산구', '경상북도 포항시 북구', '경기도 고양시 덕양구', '경기도 안산시 단원구', '전라북도 전주시 덕진구', '경기도 부천시 소사구', '경상북도 포항시 남구', '경상남도 창원시 진해구', '경기도 수원시 팔달구', '경기도 부천시 원미구', '경기도 용인시 기흥구', '경기도 고양시 일산동구', '경기도 부천시 오정구', '경기도 안양시 만안구', '경기도 안산시 상록구', '경기도 용인시 처인구', '경기도 수원시 영통구', '경기도 수원시 장안구', '경기도 성남시 중원구', '충청남도 천안시 동남구', '경기도 성남시 분당구', '충청북도 청주시 상당구'}\n",
      "\n",
      "result2\n",
      "{'인천광역시 미추홀구', '경기도 중원구', '충청남도 서북구', '경기도 포천군', '충청북도 서원구', '경기도 수정구', '경기도 원미구', '제주특별자치도 남제주군', '제주특별자치도 북제주군', '경상남도 회원구', '경기도 덕양구', '경기도 단원구', '경기도 수원시', '경기도 분당구', '경상남도 의창구', '경상남도 마산회원구', '경기도 광주군', '전라북도 덕진구', '경기도 고양시', '경상남도 마산시', '경기도 장안구', '경상북도 포항시', '전라북도 완산구', '경기도 상록구', '경기도 만안구', '충청남도 동남구', '경기도 일산서구', '경상북도 북구', '경상남도 창원시', '충청남도 당진군', '경상북도 남구', '충청북도 청원구', '경기도 안양시', '경기도 양주군', '경기도 팔달구', '경기도 용인시', '경기도 기흥구', '경기도 영통구', '경상남도 진해시', '경기도 오정구', '경기도 일산동구', '경기도 안산시', '경기도 수지구', '경상남도 합포구', '경기도 부천시', '경기도 일산구', '경기도 소사구', '경상남도 마산합포구', '경상남도 성산구', '경상남도 진해구', '경기도 처인구', '충청북도 상당구', '충청남도 연기군', '경기도 권선구', '경기도 화성군', '경기도 성남시', '충청남도 천안시', '전라북도 전주시', '충청북도 흥덕구', '충청북도 청주시', '경기도 동안구', '경기도 여주시'}\n"
     ]
    }
   ],
   "source": [
    "check(childbirth)\n"
   ]
  },
  {
   "cell_type": "markdown",
   "metadata": {},
   "source": [
    "# 인구증가율"
   ]
  },
  {
   "cell_type": "code",
   "execution_count": 8,
   "metadata": {},
   "outputs": [],
   "source": [
    "# use Excel to preprocess\n",
    "# combine first two rows\n",
    "population_growth = pd.read_csv(\n",
    "    './data/raw/인구증가율_17-20.csv', header=[0, 1], encoding='cp949')\n",
    "population_growth.columns = population_growth.columns.map('_'.join)\n",
    "# feature selection\n",
    "columns = ['시도명_Unnamed: 0_level_1', '시군구명_행정구역별', '2017_인구증가율<br>{(A-B)÷B}×100 (%)',\n",
    "           '2018_인구증가율<br>{(A-B)÷B}×100 (%)', '2019_인구증가율<br>{(A-B)÷B}×100 (%)',\n",
    "           '2020_인구증가율<br>{(A-B)÷B}×100 (%)']\n",
    "population_growth = population_growth[columns]\n",
    "# rename\n",
    "population_growth = population_growth.rename(\n",
    "    columns={'시도명_Unnamed: 0_level_1': '시도명', '시군구명_행정구역별': '시군구명'})\n",
    "# save\n",
    "population_growth.to_csv(\n",
    "    './data/processed/population_growth.csv', encoding='cp949', index=False)\n"
   ]
  },
  {
   "cell_type": "code",
   "execution_count": 9,
   "metadata": {},
   "outputs": [
    {
     "name": "stdout",
     "output_type": "stream",
     "text": [
      "result1\n",
      "{'제주특별자치도 서귀포시', '경기도 성남시 수정구', '충청북도 청주시 흥덕구', '경기도 수원시 권선구', '경상남도 창원시 성산구', '경상남도 창원시 의창구', '경상남도 창원시 마산합포구', '경기도 안양시 동안구', '경상남도 창원시 마산회원구', '제주특별자치도 제주시', '경기도 용인시 수지구', '경기도 고양시 일산서구', '충청남도 천안시 서북구', '전라북도 전주시 완산구', '경상북도 포항시 북구', '경기도 고양시 덕양구', '충청북도 청주시 상당구', '경기도 안산시 단원구', '세종특별자치시 세종시', '전라북도 전주시 덕진구', '경기도 부천시 소사구', '경상북도 포항시 남구', '경상남도 창원시 진해구', '경기도 수원시 팔달구', '경기도 부천시 원미구', '경기도 용인시 기흥구', '경기도 고양시 일산동구', '경기도 부천시 오정구', '경기도 안양시 만안구', '경기도 안산시 상록구', '경기도 여주군', '경기도 수원시 영통구', '경기도 용인시 처인구', '경기도 수원시 장안구', '경기도 성남시 중원구', '충청남도 천안시 동남구', '경기도 성남시 분당구', '충청북도 청원군'}\n",
      "\n",
      "result2\n",
      "{'경상남도 창원시', '인천광역시 미추홀구', '경기도 안산시', '경기도 고양시', '경기도 부천시', '경상북도 포항시', '경기도 안양시', '경기도 용인시', '경기도 수원시', '경기도 성남시', '세종특별자치시 세종특별자치시', '충청남도 천안시', '전라북도 전주시', '제주특별자치도 제주 제주시', '충청북도 청주시', '제주특별자치도 제주 서귀포시', '경기도 여주시'}\n"
     ]
    }
   ],
   "source": [
    "check(population_growth)\n"
   ]
  },
  {
   "cell_type": "markdown",
   "metadata": {},
   "source": [
    "# 노인천명당_노인여가복지시설수"
   ]
  },
  {
   "cell_type": "code",
   "execution_count": 10,
   "metadata": {},
   "outputs": [],
   "source": [
    "welfare_facility = pd.read_csv(\n",
    "    './data/raw/노인천명당_노인여가복지시설수_17-20.csv', header=[0, 1], encoding='cp949')\n",
    "welfare_facility.columns = welfare_facility.columns.map('_'.join)\n",
    "columns = ['행정구역별(1)_행정구역별(1)', '행정구역별(2)_행정구역별(2)', '2017_노인천명당 노인여가복지시설수<br>(A÷B×1000) (개)',\n",
    "           '2018_노인천명당 노인여가복지시설수<br>(A÷B×1000) (개)', '2019_노인천명당 노인여가복지시설수<br>(A÷B×1000) (개)',\n",
    "           '2020_노인천명당 노인여가복지시설수<br>(A÷B×1000) (개)']\n",
    "welfare_facility = welfare_facility[columns]\n",
    "# drop '소계'\n",
    "condition = (welfare_facility['행정구역별(2)_행정구역별(2)'].str.contains('소계') == False)\n",
    "welfare_facility = welfare_facility.loc[condition]\n",
    "# rename\n",
    "welfare_facility = welfare_facility.rename(\n",
    "    columns={'행정구역별(1)_행정구역별(1)': '시도명', '행정구역별(2)_행정구역별(2)': '시군구명'})\n",
    "# save\n",
    "welfare_facility.to_csv(\n",
    "    './data/processed/welfare_facility.csv', encoding='cp949', index=False)\n"
   ]
  },
  {
   "cell_type": "code",
   "execution_count": 11,
   "metadata": {},
   "outputs": [
    {
     "name": "stdout",
     "output_type": "stream",
     "text": [
      "result1\n",
      "{'경기도 성남시 수정구', '충청북도 청주시 흥덕구', '경기도 수원시 권선구', '경상남도 창원시 성산구', '경상남도 창원시 의창구', '경상남도 창원시 마산합포구', '경기도 안양시 동안구', '경상남도 창원시 마산회원구', '경기도 용인시 수지구', '경기도 고양시 일산서구', '충청남도 천안시 서북구', '전라북도 전주시 완산구', '경상북도 포항시 북구', '경기도 고양시 덕양구', '충청북도 청주시 상당구', '경기도 안산시 단원구', '세종특별자치시 세종시', '전라북도 전주시 덕진구', '경기도 부천시 소사구', '경상북도 포항시 남구', '경상남도 창원시 진해구', '경기도 수원시 팔달구', '경기도 부천시 원미구', '경기도 용인시 기흥구', '경기도 고양시 일산동구', '경기도 부천시 오정구', '경기도 안양시 만안구', '경기도 안산시 상록구', '경기도 여주군', '경기도 수원시 영통구', '경기도 용인시 처인구', '경기도 수원시 장안구', '경기도 성남시 중원구', '충청남도 천안시 동남구', '경기도 성남시 분당구', '충청북도 청원군'}\n",
      "\n",
      "result2\n",
      "{'경상남도 창원시', '인천광역시 미추홀구', '경기도 고양시', '경기도 부천시', '경상북도 포항시', '경기도 안양시', '경기도 용인시', '경기도 수원시', '경기도 성남시', '충청남도 천안시', '전라북도 전주시', '경기도 안산시', '충청북도 청주시', '경기도 여주시'}\n"
     ]
    }
   ],
   "source": [
    "check(welfare_facility)\n"
   ]
  },
  {
   "cell_type": "markdown",
   "metadata": {},
   "source": [
    "# 고령인구비율"
   ]
  },
  {
   "cell_type": "code",
   "execution_count": 12,
   "metadata": {},
   "outputs": [],
   "source": [
    "elderly_ratio = pd.read_csv(\n",
    "    './data/raw/고령인구비율_17-21.csv', header=[0, 1], encoding='cp949')\n",
    "elderly_ratio.columns = elderly_ratio.columns.map('_'.join)\n",
    "columns = ['행정구역별(1)_행정구역별(1)', '행정구역별(2)_행정구역별(2)',\n",
    "           '2017_고령인구비율<br>(A÷B×100) (%)', '2018_고령인구비율<br>(A÷B×100) (%)',\n",
    "           '2019_고령인구비율<br>(A÷B×100) (%)', '2020_고령인구비율<br>(A÷B×100) (%)',\n",
    "           '2021_고령인구비율<br>(A÷B×100) (%)']\n",
    "elderly_ratio = elderly_ratio[columns]\n",
    "# drop '소계'\n",
    "condition = (elderly_ratio['행정구역별(2)_행정구역별(2)'].str.contains('소계') == False)\n",
    "elderly_ratio = elderly_ratio.loc[condition]\n",
    "# rename\n",
    "elderly_ratio = elderly_ratio.rename(\n",
    "    columns={'행정구역별(1)_행정구역별(1)': '시도명', '행정구역별(2)_행정구역별(2)': '시군구명'})\n",
    "# save\n",
    "elderly_ratio.to_csv('./data/processed/elderly_ratio.csv',\n",
    "                     encoding='cp949', index=False)\n"
   ]
  },
  {
   "cell_type": "code",
   "execution_count": 13,
   "metadata": {},
   "outputs": [
    {
     "name": "stdout",
     "output_type": "stream",
     "text": [
      "result1\n",
      "{'경기도 성남시 수정구', '충청북도 청주시 흥덕구', '경기도 수원시 권선구', '경상남도 창원시 성산구', '경상남도 창원시 의창구', '경상남도 창원시 마산합포구', '경기도 안양시 동안구', '경상남도 창원시 마산회원구', '경기도 용인시 수지구', '경기도 고양시 일산서구', '충청남도 천안시 서북구', '전라북도 전주시 완산구', '경상북도 포항시 북구', '경기도 고양시 덕양구', '충청북도 청주시 상당구', '경기도 안산시 단원구', '세종특별자치시 세종시', '전라북도 전주시 덕진구', '경기도 부천시 소사구', '경상북도 포항시 남구', '경상남도 창원시 진해구', '경기도 수원시 팔달구', '경기도 부천시 원미구', '경기도 용인시 기흥구', '경기도 고양시 일산동구', '경기도 부천시 오정구', '경기도 안양시 만안구', '경기도 안산시 상록구', '경기도 여주군', '경기도 수원시 영통구', '경기도 용인시 처인구', '경기도 수원시 장안구', '경기도 성남시 중원구', '충청남도 천안시 동남구', '경기도 성남시 분당구', '충청북도 청원군'}\n",
      "\n",
      "result2\n",
      "{'경상남도 창원시', '인천광역시 미추홀구', '경기도 고양시', '경기도 부천시', '경상북도 포항시', '경기도 안양시', '경기도 용인시', '경기도 수원시', '경기도 성남시', '충청남도 천안시', '전라북도 전주시', '경기도 안산시', '충청북도 청주시', '경기도 여주시'}\n"
     ]
    }
   ],
   "source": [
    "check(elderly_ratio)"
   ]
  },
  {
   "cell_type": "markdown",
   "metadata": {},
   "source": [
    "# 경제활동인구\n",
    "- 시도 level\n",
    "- 연령별"
   ]
  },
  {
   "cell_type": "code",
   "execution_count": 14,
   "metadata": {},
   "outputs": [],
   "source": [
    "econ_active = pd.read_csv(\n",
    "    './data/raw/연령별_경제활동인구_17-21.csv', header=[0, 1], encoding='cp949')\n",
    "# combine first two rows\n",
    "econ_active.columns = econ_active.columns.map('_'.join)\n",
    "columns = ['시도별_시도별', '연령계층별_연령계층별', '2017_경제활동참가율 (%)', '2018_경제활동참가율 (%)',\n",
    "           '2019_경제활동참가율 (%)', '2020_경제활동참가율 (%)', '2021_경제활동참가율 (%)']\n",
    "econ_active = econ_active[columns]\n",
    "# rearrange table\n",
    "econ_active = econ_active.pivot(index='시도별_시도별', columns='연령계층별_연령계층별').reset_index()\n",
    "# combine first two rows\n",
    "econ_active.columns = econ_active.columns.map('_'.join)\n",
    "econ_active = econ_active.rename(columns={'시도별_시도별_':'시도명'})\n",
    "# save\n",
    "econ_active.to_csv('./data/processed/econ_active.csv',\n",
    "                   encoding='cp949', index=False)\n"
   ]
  },
  {
   "cell_type": "markdown",
   "metadata": {},
   "source": [
    "# 상권관련\n",
    "- 골프용품판매\n",
    "- 실내골프연습장\n",
    "- 비만/피부관리\n",
    "- 커피전문점/카페/다방\n",
    "- 학원-어린이영어\n",
    "- 어린이집\n",
    "- 장의사/관련서비스-종합"
   ]
  },
  {
   "cell_type": "code",
   "execution_count": 15,
   "metadata": {},
   "outputs": [],
   "source": [
    "path = 'data/raw/소상공인시장진흥공단_상가(상권)정보_20211231'\n",
    "# ut file in files\n",
    "files = []\n",
    "for file in os.listdir(path):\n",
    "    if file.endswith('.csv'):\n",
    "        file = os.path.join(\n",
    "            path, file)\n",
    "        files.append(file)\n",
    "# merge\n",
    "left = pd.DataFrame()\n",
    "for file in files:\n",
    "    right = pd.read_csv(file, low_memory=False)\n",
    "    left = pd.concat([left, right], axis=0, ignore_index=True)\n"
   ]
  },
  {
   "cell_type": "code",
   "execution_count": 16,
   "metadata": {},
   "outputs": [
    {
     "name": "stdout",
     "output_type": "stream",
     "text": [
      "result1\n",
      "{'경기도 여주군', '인천광역시 남구', '경기도 부천시 원미구', '세종특별자치시 세종시', '경기도 부천시 소사구', '경기도 부천시 오정구', '충청북도 청원군'}\n",
      "\n",
      "result2\n",
      "{'경상남도 창원시', '인천광역시 미추홀구', '경기도 고양시', '경기도 부천시', '경기도 용인시', '경기도 수원시', '충청남도 홍북읍', '충청북도 청주시 청원구', '세종특별자치시 세종특별자치시', '전라북도 전주시', '경기도 안산시', '충청북도 청주시 서원구', '경기도 여주시'}\n"
     ]
    }
   ],
   "source": [
    "check(left)"
   ]
  },
  {
   "cell_type": "code",
   "execution_count": 17,
   "metadata": {},
   "outputs": [],
   "source": [
    "# feature selection\n",
    "columns = ['시도명', '시군구명', '상권업종소분류명']\n",
    "left = left[columns]\n",
    "# 골프용품판매\n",
    "golf_shop = left[left['상권업종소분류명'] == '골프용품판매']\n",
    "golf_shop = golf_shop.groupby(['시도명', '시군구명']).size().reset_index()\n",
    "golf_shop.to_csv('./data/processed/golf_shop.csv',\n",
    "                 encoding='cp949', index=False)\n",
    "# 실내골프연습장\n",
    "driving_range = left[left['상권업종소분류명'] == '실내골프연습장']\n",
    "driving_range = driving_range.groupby(['시도명', '시군구명']).size().reset_index()\n",
    "driving_range.to_csv('./data/processed/driving_range.csv', encoding='cp949', index=False)\n",
    "# 비만/피부관리\n",
    "obese_manage = left[left['상권업종소분류명'] == '비만/피부관리']\n",
    "obese_manage = obese_manage.groupby(['시도명', '시군구명']).size().reset_index()\n",
    "obese_manage.to_csv('./data/processed/obese_manage.csv',\n",
    "                    encoding='cp949', index=False)\n",
    "# 커피전문점/카페/다방\n",
    "coffee = left[left['상권업종소분류명'] == '커피전문점/카페/다방']\n",
    "coffee = coffee.groupby(['시도명', '시군구명']).size().reset_index()\n",
    "coffee.to_csv('./data/processed/coffee.csv', encoding='cp949', index=False)\n",
    "# 학원-어린이영어\n",
    "kids_eng = left[left['상권업종소분류명'] == '학원-어린이영어']\n",
    "kids_eng = kids_eng.groupby(['시도명', '시군구명']).size().reset_index()\n",
    "kids_eng.to_csv('./data/processed/kids_eng.csv', encoding='cp949', index=False)\n",
    "# 어린이집\n",
    "day_care = left[left['상권업종소분류명'] == '어린이집']\n",
    "day_care = day_care.groupby(['시도명', '시군구명']).size().reset_index()\n",
    "day_care.to_csv('./data/processed/day_care.csv', encoding='cp949', index=False)\n",
    "# 장의사/관련서비스-종합\n",
    "undertaker = left[left['상권업종소분류명'] == '장의사/관련서비스-종합']\n",
    "undertaker = undertaker.groupby(['시도명', '시군구명']).size().reset_index()\n",
    "undertaker.to_csv('./data/processed/undertaker.csv',\n",
    "                  encoding='cp949', index=False)\n"
   ]
  },
  {
   "cell_type": "markdown",
   "metadata": {},
   "source": [
    "# TBD"
   ]
  },
  {
   "cell_type": "code",
   "execution_count": 18,
   "metadata": {},
   "outputs": [
    {
     "data": {
      "text/plain": [
       "{'경기도 고양시 덕양구',\n",
       " '경기도 고양시 일산동구',\n",
       " '경기도 고양시 일산서구',\n",
       " '경기도 부천시 소사구',\n",
       " '경기도 부천시 오정구',\n",
       " '경기도 부천시 원미구',\n",
       " '경기도 성남시 분당구',\n",
       " '경기도 성남시 수정구',\n",
       " '경기도 성남시 중원구',\n",
       " '경기도 수원시 권선구',\n",
       " '경기도 수원시 영통구',\n",
       " '경기도 수원시 장안구',\n",
       " '경기도 수원시 팔달구',\n",
       " '경기도 안산시 단원구',\n",
       " '경기도 안산시 상록구',\n",
       " '경기도 안양시 동안구',\n",
       " '경기도 안양시 만안구',\n",
       " '경기도 여주군',\n",
       " '경기도 용인시 기흥구',\n",
       " '경기도 용인시 수지구',\n",
       " '경기도 용인시 처인구',\n",
       " '경상남도 창원시 마산합포구',\n",
       " '경상남도 창원시 마산회원구',\n",
       " '경상남도 창원시 성산구',\n",
       " '경상남도 창원시 의창구',\n",
       " '경상남도 창원시 진해구',\n",
       " '경상북도 포항시 남구',\n",
       " '경상북도 포항시 북구',\n",
       " '세종특별자치시 세종시',\n",
       " '인천광역시 남구',\n",
       " '전라북도 전주시 덕진구',\n",
       " '전라북도 전주시 완산구',\n",
       " '제주특별자치도 서귀포시',\n",
       " '제주특별자치도 제주시',\n",
       " '충청남도 천안시 동남구',\n",
       " '충청남도 천안시 서북구',\n",
       " '충청북도 청원군',\n",
       " '충청북도 청주시 상당구',\n",
       " '충청북도 청주시 흥덕구'}"
      ]
     },
     "execution_count": 18,
     "metadata": {},
     "output_type": "execute_result"
    }
   ],
   "source": [
    "check1"
   ]
  },
  {
   "cell_type": "code",
   "execution_count": 63,
   "metadata": {},
   "outputs": [
    {
     "data": {
      "text/plain": [
       "{'경기도 고양시',\n",
       " '경기도 광주군',\n",
       " '경기도 권선구',\n",
       " '경기도 기흥구',\n",
       " '경기도 남양주시 남양주',\n",
       " '경기도 남양주시 남양주 풍양',\n",
       " '경기도 단원구',\n",
       " '경기도 덕양구',\n",
       " '경기도 동안구',\n",
       " '경기도 만안구',\n",
       " '경기도 부천시',\n",
       " '경기도 분당구',\n",
       " '경기도 상록구',\n",
       " '경기도 성남시',\n",
       " '경기도 소사구',\n",
       " '경기도 수원시',\n",
       " '경기도 수정구',\n",
       " '경기도 수지구',\n",
       " '경기도 안산시',\n",
       " '경기도 안양시',\n",
       " '경기도 양주군',\n",
       " '경기도 여주시',\n",
       " '경기도 영통구',\n",
       " '경기도 오정구',\n",
       " '경기도 용인시',\n",
       " '경기도 원미구',\n",
       " '경기도 일산구',\n",
       " '경기도 일산동구',\n",
       " '경기도 일산서구',\n",
       " '경기도 장안구',\n",
       " '경기도 중원구',\n",
       " '경기도 처인구',\n",
       " '경기도 팔달구',\n",
       " '경기도 평택시 송탄',\n",
       " '경기도 평택시 평택',\n",
       " '경기도 포천군',\n",
       " '경기도 화성군',\n",
       " '경상남도 마산시',\n",
       " '경상남도 마산합포구',\n",
       " '경상남도 마산회원구',\n",
       " '경상남도 성산구',\n",
       " '경상남도 의창구',\n",
       " '경상남도 진해구',\n",
       " '경상남도 진해시',\n",
       " '경상남도 창원시',\n",
       " '경상남도 창원시 마산',\n",
       " '경상남도 창원시 진해',\n",
       " '경상남도 창원시 창원',\n",
       " '경상남도 합포구',\n",
       " '경상남도 회원구',\n",
       " '경상북도 구미시 구미',\n",
       " '경상북도 구미시 선산',\n",
       " '경상북도 남구',\n",
       " '경상북도 북구',\n",
       " '경상북도 포항시',\n",
       " '세종특별자치시 세종특별자치시',\n",
       " '인천광역시 미추홀구',\n",
       " '전라북도 덕진구',\n",
       " '전라북도 완산구',\n",
       " '전라북도 전주시',\n",
       " '제주특별자치도 남제주군',\n",
       " '제주특별자치도 북제주군',\n",
       " '제주특별자치도 서귀포시 동부',\n",
       " '제주특별자치도 서귀포시 서귀포',\n",
       " '제주특별자치도 서귀포시 서부',\n",
       " '제주특별자치도 제주 서귀포시',\n",
       " '제주특별자치도 제주 제주시',\n",
       " '제주특별자치도 제주시 동부',\n",
       " '제주특별자치도 제주시 서부',\n",
       " '제주특별자치도 제주시 제주',\n",
       " '충청남도 당진군',\n",
       " '충청남도 동남구',\n",
       " '충청남도 서북구',\n",
       " '충청남도 연기군',\n",
       " '충청남도 천안시',\n",
       " '충청남도 홍북읍',\n",
       " '충청북도 상당구',\n",
       " '충청북도 서원구',\n",
       " '충청북도 청원구',\n",
       " '충청북도 청주시',\n",
       " '충청북도 청주시 서원구',\n",
       " '충청북도 청주시 청원구',\n",
       " '충청북도 흥덕구'}"
      ]
     },
     "execution_count": 63,
     "metadata": {},
     "output_type": "execute_result"
    }
   ],
   "source": [
    "check2"
   ]
  },
  {
   "cell_type": "code",
   "execution_count": null,
   "metadata": {},
   "outputs": [],
   "source": []
  }
 ],
 "metadata": {
  "interpreter": {
   "hash": "656a610cf7529c094650ddc82c723fb6eadfe6af02f42af438dd409fb1ebbdba"
  },
  "kernelspec": {
   "display_name": "Python 3.9.7 ('base')",
   "language": "python",
   "name": "python3"
  },
  "language_info": {
   "codemirror_mode": {
    "name": "ipython",
    "version": 3
   },
   "file_extension": ".py",
   "mimetype": "text/x-python",
   "name": "python",
   "nbconvert_exporter": "python",
   "pygments_lexer": "ipython3",
   "version": "3.9.7"
  },
  "orig_nbformat": 4
 },
 "nbformat": 4,
 "nbformat_minor": 2
}
