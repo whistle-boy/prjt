{
 "cells": [
  {
   "cell_type": "code",
   "execution_count": 1,
   "metadata": {},
   "outputs": [],
   "source": [
    "import os\n",
    "import numpy as np\n",
    "import pandas as pd\n",
    "import matplotlib.pyplot as plt\n",
    "import seaborn as sns\n",
    "from matplotlib import font_manager, rc\n",
    "%matplotlib inline\n",
    "# from functools import reduce\n",
    "\n",
    "# set font\n",
    "font_name = font_manager.FontProperties(\n",
    "    fname='c:/Windows/Fonts/malgun.ttf').get_name()\n",
    "rc('font', family=font_name)\n",
    "# matplotlib.rcParams['axes.unicode_minus'] = False\n",
    "sns.set(font=font_name,\n",
    "        rc={'axes.unicode_minus': False})  # to show negative sign on graphs\n",
    "\n",
    "# set option\n",
    "pd.set_option('display.max_rows', 100)\n",
    "pd.set_option('display.max_columns', 100)\n",
    "pd.set_option('display.precision', 2)\n"
   ]
  },
  {
   "cell_type": "code",
   "execution_count": 84,
   "metadata": {},
   "outputs": [],
   "source": [
    "# address standard\n",
    "address = pd.read_csv('./data/processed/address.csv', encoding='cp949')\n",
    "\n",
    "# customer dataset address\n",
    "data = pd.read_csv('./data/raw/ALL_20220404_0cnt.csv')\n",
    "temp = pd.read_csv('./data/raw/ALL_20220404_1cnt.csv')\n",
    "data = pd.concat([data, temp])\n",
    "temp = pd.read_csv('./data/raw/ALL_20220404_2cnt.csv')\n",
    "data = pd.concat([data, temp])\n"
   ]
  },
  {
   "cell_type": "code",
   "execution_count": 3,
   "metadata": {},
   "outputs": [],
   "source": [
    "check1 = set()\n",
    "check2 = set()\n",
    "# check by address\n",
    "def check(dataframe):\n",
    "    check_address = address['시도명']+' '+address['시군구명']\n",
    "    check_dataframe = dataframe['시도명']+' '+dataframe['시군구명']\n",
    "    result1 = set(check_address) - set(check_dataframe)\n",
    "    check1.update(result1)\n",
    "    result2 = set(check_dataframe) - set(check_address)\n",
    "    check2.update(result2)\n",
    "    return print(f'result1\\n{result1}\\n\\nresult2\\n{result2}')\n"
   ]
  },
  {
   "cell_type": "code",
   "execution_count": 74,
   "metadata": {},
   "outputs": [],
   "source": [
    "# # feature selection\n",
    "# columns = ['시도명', '시군구명', '읍면동']\n",
    "# data = data[columns]\n",
    "\n",
    "# sido = data['시도명'].unique()\n",
    "# sigungu = data['시군구명'].unique()\n",
    "# dong = data['읍면동'].unique()\n"
   ]
  },
  {
   "cell_type": "markdown",
   "metadata": {},
   "source": [
    "# 시도명 전처리"
   ]
  },
  {
   "cell_type": "code",
   "execution_count": 86,
   "metadata": {},
   "outputs": [],
   "source": [
    "# 시도명 dict\n",
    "시도명사전 = {\n",
    "    '인천': '인천광역시',\n",
    "    '충남': '충청남도',\n",
    "    '경기': '경기도',\n",
    "    '대전': '대전광역시',\n",
    "    '경남': '경상남도',\n",
    "    '서울': '서울특별시',\n",
    "    '전남': '전라남도',\n",
    "    '전북': '전라북도',\n",
    "    '제주': '제주특별자치도',\n",
    "    '부산': '부산광역시',\n",
    "    '광주': '광주광역시',\n",
    "    '울산': '울산광역시',\n",
    "    '경북': '경상북도',\n",
    "    '충북': '충청북도',\n",
    "    '대구': '대구광역시',\n",
    "    '강원': '강원도',\n",
    "}\n",
    "\n",
    "# replace 시도명 based on 시도명 dict\n",
    "data = data.replace({'시도명': 시도명사전})\n"
   ]
  },
  {
   "cell_type": "markdown",
   "metadata": {},
   "source": [
    "# 시군구명 전처리"
   ]
  },
  {
   "cell_type": "code",
   "execution_count": 87,
   "metadata": {},
   "outputs": [],
   "source": [
    "# 세종특별자치시\n",
    "세종_읍 = {'조치원읍'}\n",
    "세종_면 = {'연기면', '연동면', '부강면', '금남면', '장군면', '연서면',\n",
    "            '전의면', '전동면', '소정면'}\n",
    "세종_행정동 = {'한솔동', '도담동', '해밀동', '아름동', '종촌동', '고운동',\n",
    "            '보람동', '새롬동', '대평동', '소담동', '반곡동', '다정동'}\n",
    "세종_법정동 = {'가람동', '한솔동', '도담동', '어진동', '해밀동',\n",
    "            '산울동', '아름동', '종촌동', '고운동', '보람동', '나성동',\n",
    "            '새롬동', '대평동', '소담동', '반곡동', '집현동', '합강동', '다정동'}\n",
    "세종사전 = 세종_읍 | 세종_면 | 세종_행정동 | 세종_법정동\n",
    "\n",
    "# replace 세종특별자치시 based on 세종_행정동 | 세종_법정동\n",
    "data.loc[(data['읍면동'].isin(세종사전)) & (\n",
    "    data['시도명'] == '충청남도'), '시도명'] = '세종특별자치시'\n",
    "data.loc[(data['읍면동'].isin(세종사전)) & (\n",
    "    data['시도명'] == '충청남도'), '시도명'] = '세종특별자치시'\n"
   ]
  },
  {
   "cell_type": "code",
   "execution_count": 88,
   "metadata": {},
   "outputs": [],
   "source": [
    "data.loc[(data['시도명'] == '부산광역시') & (\n",
    "    data['시군구명'].str.contains('진구')), '시군구명'] = '부산진구'\n",
    "data.loc[data['시군구명'] == '강남', '시군구명'] = '강남구'\n",
    "data.loc[data['시군구명'] == '강북', '시군구명'] = '강북구'\n",
    "\n",
    "# 고양시 일산구\n",
    "일산서구_행정동 = {'일산1동', '일산2동', '일산3동', '탄현1동', '탄현2동',\n",
    "            '주엽1동', '주엽2동', '대화동', '송포동', '송산동'}\n",
    "일산서구_법정동 = {'일산동', '탄현동', '주엽동', '대화동', '법곳동',\n",
    "            '가좌동', '구산동', '덕이동'}\n",
    "일산서구 = 일산서구_행정동 | 일산서구_법정동\n",
    "일산동구_행정동 = {'식사동', '중산1동', '중산2동', '정발산동', '풍산동',\n",
    "            '백석1동', '백석2동', '마두1동', '마두2동', '장항1동', '장항2동', '고봉동'}\n",
    "일산동구_법정동 = {'식사동', '중산동', '정발산동', '풍동', '산황동', '백석동', '마두동',\n",
    "            '장항동', '성석동', '설문동', '지영동', '문봉동', '사리현동'}\n",
    "일산동구 = 일산동구_행정동 | 일산동구_법정동\n",
    "\n",
    "data.loc[(data['시군구명'] == '고양시 일산구') & (\n",
    "    data['읍면동'].isin(일산서구)), '시군구명'] = '고양시 일산서구'\n",
    "data.loc[(data['시군구명'] == '고양시 일산구') & (\n",
    "    data['읍면동'].isin(일산동구)), '시군구명'] = '고양시 일산동구'\n",
    "# 일산4동 -> 정발산동\n",
    "data.loc[data['시군구명'] == '고양시 일산구', '읍면동'] = '정발산동'\n",
    "data.loc[data['시군구명'] == '고양시 일산구', '시군구명'] = '고양시 일산동구'\n"
   ]
  },
  {
   "cell_type": "code",
   "execution_count": 89,
   "metadata": {},
   "outputs": [
    {
     "name": "stdout",
     "output_type": "stream",
     "text": [
      "result1\n",
      "{'경기도 성남시', '경기도 안양시', '경상북도 포항시', '세종특별자치시 세종시', '충청북도 청주시', '전라북도 전주시', '경기도 수원시', '경기도 고양시'}\n",
      "\n",
      "result2\n",
      "{'경기도 여주군', '충청남도 연기군', '전라북도 전주시 덕진구', '충청남도 당진군', '경기도 수원시 장안구', '세종특별자치시 연기군', '충청북도 청주시 흥덕구', '경기도 부천시 소사구', '경기도 안양시 만안구', '경상남도 창원시 마산회원구', '경기도 용인시 처인구', '경상남도 마산시 합포구', '경기도 ㆍ값없음', '충청남도 천안시 서북구', '경기도 고양시 일산서구', '경기도 수원시 권선구', '경상북도 포항시 북구', '경상남도 창원시 마산합포구', '경상남도 창원시 성산구', '경기도 고양시 덕양구', '경기도 용인시 수지구', '경기도 안산시 상록구', '경기도 수원시 팔달구', '제주특별자치도 북제주군', '경기도 안산시 단원구', '경상남도 마산시', '경상북도 포항시 남구', '전라북도 전주시 완산구', '충청북도 청주시 상당구', '경기도 포천군', '경기도 광주군', '제주특별자치도 남제주군', '경기도 용인시 기흥구', '경기도 성남시 중원구', '경기도 안양시 동안구', '경상남도 마산시 회원구', '경기도 성남시 분당구', '경상남도 창원시 진해구', '경상남도 창원시 의창구', '충청북도 청주시 서원구', '경기도 부천시 오정구', '충청북도 청주시 청원구', '경기도 양주군', '경기도 부천시 원미구', '충청남도 천안시 동남구', '경기도 수원시 영통구', '경기도 화성군', '경기도 성남시 수정구', '경기도 고양시 일산동구', '경기도 과천시 원미구'}\n"
     ]
    }
   ],
   "source": [
    "check(data)"
   ]
  },
  {
   "cell_type": "markdown",
   "metadata": {},
   "source": [
    "# address 전처리"
   ]
  },
  {
   "cell_type": "code",
   "execution_count": 90,
   "metadata": {},
   "outputs": [],
   "source": [
    "# 충청북도: 청주시 서원구, 청주시 청원구 추가\n",
    "temp = pd.DataFrame({\n",
    "    '시도명':'충청북도',\n",
    "    '시군구명':['청주시 서원구', '청주시 청원구']\n",
    "})\n",
    "address = pd.concat([address, temp], axis=0, ignore_index=True)\n",
    "\n",
    "# 인천광역시: 미추홀구 추가\n",
    "temp = pd.DataFrame({\n",
    "    '시도명':'인천광역시',\n",
    "    '시군구명':['미추홀구']\n",
    "})\n",
    "address = pd.concat([address, temp], axis=0, ignore_index=True)\n",
    "\n",
    "# address 수정\n",
    "address.loc[address['시군구명'] == '여주군', '시군구명'] = '여주시'\n",
    "\n",
    "# save\n",
    "address.to_csv('./data/processed/address.csv', encoding='cp949', index=False)\n"
   ]
  },
  {
   "cell_type": "markdown",
   "metadata": {},
   "source": [
    "# kb생명 고객데이터 전처리"
   ]
  },
  {
   "cell_type": "code",
   "execution_count": 92,
   "metadata": {},
   "outputs": [],
   "source": [
    "# data 수정\n",
    "data.loc[data['시군구명'] == '당진군', '시군구명'] = '당진시'\n",
    "data.loc[data['시군구명'] == '남제주군', '시군구명'] = '서귀포시'\n",
    "data.loc[data['시군구명'] == '북제주군', '시군구명'] = '제주시'\n",
    "data.loc[data['시군구명'] == '연기군', '시군구명'] = '세종시'\n",
    "data.loc[data['시군구명'] == '세종시', '시도명'] = '세종특별자치시'\n",
    "data.loc[data['시군구명'] == '마산시 합포구', '시군구명'] = '창원시'\n",
    "data.loc[data['시군구명'] == '마산시', '시군구명'] = '창원시'\n",
    "data.loc[data['시군구명'] == '마산시 회원구', '시군구명'] = '창원시'\n",
    "data.loc[data['시군구명'] == '포천군', '시군구명'] = '포천시'\n",
    "data.loc[(data['시도명'] == '경기도') & (data['시군구명'] == '광주군'), '시군구명'] = '광주시'\n",
    "data.loc[(data['시도명'] == '경기도') & (data['시군구명'] == '양주군'), '시군구명'] = '양주시'\n",
    "data.loc[(data['시도명'] == '경기도') & (data['시군구명'] == '화성군'), '시군구명'] = '화성시'\n",
    "data.loc[(data['시도명'] == '경기도') & (data['시군구명'] == '여주군'), '시군구명'] = '여주시'\n",
    "\n",
    "\n",
    "# save\n",
    "# data.to_csv('./data/processed/data.csv',\n",
    "#                                encoding='cp949', index=False)\n",
    "data.to_csv('./data/processed/data.csv',\n",
    "                                encoding='utf-8', index=False)\n"
   ]
  },
  {
   "cell_type": "code",
   "execution_count": null,
   "metadata": {},
   "outputs": [],
   "source": [
    "data = pd.read_csv('./data/processed/data.csv', encoding='utf-8')\n",
    "data['시군구명'] = data['시군구명'].str.split(' ', expand=True)[0]\n",
    "\n",
    "check(data)\n"
   ]
  }
 ],
 "metadata": {
  "interpreter": {
   "hash": "656a610cf7529c094650ddc82c723fb6eadfe6af02f42af438dd409fb1ebbdba"
  },
  "kernelspec": {
   "display_name": "Python 3.9.7 ('base')",
   "language": "python",
   "name": "python3"
  },
  "language_info": {
   "codemirror_mode": {
    "name": "ipython",
    "version": 3
   },
   "file_extension": ".py",
   "mimetype": "text/x-python",
   "name": "python",
   "nbconvert_exporter": "python",
   "pygments_lexer": "ipython3",
   "version": "3.9.7"
  },
  "orig_nbformat": 4
 },
 "nbformat": 4,
 "nbformat_minor": 2
}
