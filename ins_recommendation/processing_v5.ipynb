{
 "cells": [
  {
   "cell_type": "code",
   "execution_count": 88,
   "metadata": {},
   "outputs": [],
   "source": [
    "import os\n",
    "import numpy as np\n",
    "import pandas as pd\n",
    "import matplotlib.pyplot as plt\n",
    "import seaborn as sns\n",
    "from matplotlib import font_manager, rc\n",
    "%matplotlib inline\n",
    "# from functools import reduce\n",
    "\n",
    "# set font\n",
    "font_name = font_manager.FontProperties(\n",
    "    fname='c:/Windows/Fonts/malgun.ttf').get_name()\n",
    "rc('font', family=font_name)\n",
    "# matplotlib.rcParams['axes.unicode_minus'] = False\n",
    "sns.set(font=font_name,\n",
    "        rc={'axes.unicode_minus': False})  # to show negative sign on graphs\n",
    "\n",
    "# set option\n",
    "pd.set_option('display.max_rows', 100)\n",
    "pd.set_option('display.max_columns', 100)\n",
    "pd.set_option('display.precision', 2)\n",
    "\n",
    "check1 = set()\n",
    "check2 = set()\n",
    "# check by address\n",
    "\n",
    "\n",
    "def check(dataframe):\n",
    "    check_address = address['시도명']+' '+address['시군구명']\n",
    "    check_dataframe = dataframe['시도명']+' '+dataframe['시군구명']\n",
    "    result1 = set(check_address) - set(check_dataframe)\n",
    "    check1.update(result1)\n",
    "    result2 = set(check_dataframe) - set(check_address)\n",
    "    check2.update(result2)\n",
    "    return print(f'result1\\n{result1}\\n\\nresult2\\n{result2}')\n"
   ]
  },
  {
   "cell_type": "code",
   "execution_count": 94,
   "metadata": {},
   "outputs": [
    {
     "data": {
      "text/plain": [
       "['data/processed/address.csv',\n",
       " 'data/processed/childbirth.csv',\n",
       " 'data/processed/coffee.csv',\n",
       " 'data/processed/data.csv',\n",
       " 'data/processed/data_address.csv',\n",
       " 'data/processed/day_care.csv',\n",
       " 'data/processed/df.csv',\n",
       " 'data/processed/driving_range.csv',\n",
       " 'data/processed/econ_active.csv',\n",
       " 'data/processed/elderly_ratio.csv',\n",
       " 'data/processed/golf_shop.csv',\n",
       " 'data/processed/healthy_life.csv',\n",
       " 'data/processed/kids_eng.csv',\n",
       " 'data/processed/obese_manage.csv',\n",
       " 'data/processed/population.csv',\n",
       " 'data/processed/undertaker.csv',\n",
       " 'data/processed/welfare_facility.csv']"
      ]
     },
     "execution_count": 94,
     "metadata": {},
     "output_type": "execute_result"
    }
   ],
   "source": [
    "path = 'data/processed/'\n",
    "# ut file in files\n",
    "files = []\n",
    "for file in os.listdir(path):\n",
    "    if file.endswith('.csv'):\n",
    "        file = os.path.join(\n",
    "            path, file)\n",
    "        files.append(file)\n",
    "files"
   ]
  },
  {
   "cell_type": "code",
   "execution_count": 89,
   "metadata": {},
   "outputs": [
    {
     "data": {
      "text/plain": [
       "Index(['시도명_Unnamed: 0_level_1', '시군구명_행정구역별',\n",
       "       '2017_인구증가율<br>{(A-B)÷B}×100 (%)', '2017_당해년 총인구<br>(A) (명)',\n",
       "       '2017_전년 총인구<br>(B) (명)', '2018_인구증가율<br>{(A-B)÷B}×100 (%)',\n",
       "       '2018_당해년 총인구<br>(A) (명)', '2018_전년 총인구<br>(B) (명)',\n",
       "       '2019_인구증가율<br>{(A-B)÷B}×100 (%)', '2019_당해년 총인구<br>(A) (명)',\n",
       "       '2019_전년 총인구<br>(B) (명)', '2020_인구증가율<br>{(A-B)÷B}×100 (%)',\n",
       "       '2020_당해년 총인구<br>(A) (명)', '2020_전년 총인구<br>(B) (명)'],\n",
       "      dtype='object')"
      ]
     },
     "execution_count": 89,
     "metadata": {},
     "output_type": "execute_result"
    }
   ],
   "source": [
    "# use Excel to preprocess\n",
    "# combine first two rows\n",
    "population = pd.read_csv(\n",
    "    './data/raw/인구증가율_17-20.csv', header=[0, 1], encoding='cp949')\n",
    "population.columns = population.columns.map('_'.join)\n",
    "population.columns\n"
   ]
  },
  {
   "cell_type": "code",
   "execution_count": 90,
   "metadata": {},
   "outputs": [],
   "source": [
    "# feature selection\n",
    "columns = ['시도명_Unnamed: 0_level_1', '시군구명_행정구역별', '2017_당해년 총인구<br>(A) (명)',\n",
    "'2018_당해년 총인구<br>(A) (명)', '2019_당해년 총인구<br>(A) (명)', '2020_당해년 총인구<br>(A) (명)']\n",
    "population = population[columns]\n",
    "# rename\n",
    "population = population.rename(\n",
    "    columns={'시도명_Unnamed: 0_level_1': '시도명', '시군구명_행정구역별': '시군구명'})\n",
    "# save\n",
    "population.to_csv(\n",
    "    './data/processed/population.csv', encoding='cp949', index=False)\n"
   ]
  },
  {
   "cell_type": "code",
   "execution_count": 91,
   "metadata": {},
   "outputs": [
    {
     "data": {
      "text/plain": [
       "시도명                        0\n",
       "시군구명                       0\n",
       "2017_당해년 총인구<br>(A) (명)    0\n",
       "2018_당해년 총인구<br>(A) (명)    0\n",
       "2019_당해년 총인구<br>(A) (명)    0\n",
       "2020_당해년 총인구<br>(A) (명)    0\n",
       "2017_건강생활실천율               4\n",
       "2018_건강생활실천율               4\n",
       "2019_건강생활실천율               4\n",
       "2020_건강생활실천율               4\n",
       "dtype: int64"
      ]
     },
     "execution_count": 91,
     "metadata": {},
     "output_type": "execute_result"
    }
   ],
   "source": [
    "population = pd.read_csv('./data/processed/population.csv', encoding='cp949')\n",
    "healthy_life = pd.read_csv(\n",
    "    './data/processed/healthy_life.csv', encoding='cp949')\n",
    "healthy_life = healthy_life.drop_duplicates(\n",
    "    subset=['시도명', '시군구명'], keep='first')\n",
    "healthy_life.to_csv('./data/processed/healthy_life.csv',\n",
    "                    encoding='cp949', index=False)\n",
    "df = pd.merge(population, healthy_life, how='left', on=['시도명', '시군구명'])\n",
    "df.isna().sum()\n"
   ]
  },
  {
   "cell_type": "code",
   "execution_count": 93,
   "metadata": {},
   "outputs": [],
   "source": [
    "df.to_csv('./data/processed/df.csv', encoding='cp949')"
   ]
  },
  {
   "cell_type": "code",
   "execution_count": 92,
   "metadata": {},
   "outputs": [
    {
     "data": {
      "text/html": [
       "<div>\n",
       "<style scoped>\n",
       "    .dataframe tbody tr th:only-of-type {\n",
       "        vertical-align: middle;\n",
       "    }\n",
       "\n",
       "    .dataframe tbody tr th {\n",
       "        vertical-align: top;\n",
       "    }\n",
       "\n",
       "    .dataframe thead th {\n",
       "        text-align: right;\n",
       "    }\n",
       "</style>\n",
       "<table border=\"1\" class=\"dataframe\">\n",
       "  <thead>\n",
       "    <tr style=\"text-align: right;\">\n",
       "      <th></th>\n",
       "      <th>시도명</th>\n",
       "      <th>시군구명</th>\n",
       "      <th>2017_당해년 총인구&lt;br&gt;(A) (명)</th>\n",
       "      <th>2018_당해년 총인구&lt;br&gt;(A) (명)</th>\n",
       "      <th>2019_당해년 총인구&lt;br&gt;(A) (명)</th>\n",
       "      <th>2020_당해년 총인구&lt;br&gt;(A) (명)</th>\n",
       "      <th>2017_건강생활실천율</th>\n",
       "      <th>2018_건강생활실천율</th>\n",
       "      <th>2019_건강생활실천율</th>\n",
       "      <th>2020_건강생활실천율</th>\n",
       "    </tr>\n",
       "  </thead>\n",
       "  <tbody>\n",
       "    <tr>\n",
       "      <th>51</th>\n",
       "      <td>인천광역시</td>\n",
       "      <td>남구</td>\n",
       "      <td>427604</td>\n",
       "      <td>-</td>\n",
       "      <td>-</td>\n",
       "      <td>-</td>\n",
       "      <td>NaN</td>\n",
       "      <td>NaN</td>\n",
       "      <td>NaN</td>\n",
       "      <td>NaN</td>\n",
       "    </tr>\n",
       "    <tr>\n",
       "      <th>75</th>\n",
       "      <td>세종특별자치시</td>\n",
       "      <td>세종특별자치시</td>\n",
       "      <td>284225</td>\n",
       "      <td>319066</td>\n",
       "      <td>346275</td>\n",
       "      <td>360907</td>\n",
       "      <td>NaN</td>\n",
       "      <td>NaN</td>\n",
       "      <td>NaN</td>\n",
       "      <td>NaN</td>\n",
       "    </tr>\n",
       "    <tr>\n",
       "      <th>228</th>\n",
       "      <td>제주특별자치도</td>\n",
       "      <td>제주 제주시</td>\n",
       "      <td>492401</td>\n",
       "      <td>501791</td>\n",
       "      <td>505950</td>\n",
       "      <td>507358</td>\n",
       "      <td>NaN</td>\n",
       "      <td>NaN</td>\n",
       "      <td>NaN</td>\n",
       "      <td>NaN</td>\n",
       "    </tr>\n",
       "    <tr>\n",
       "      <th>229</th>\n",
       "      <td>제주특별자치도</td>\n",
       "      <td>제주 서귀포시</td>\n",
       "      <td>186371</td>\n",
       "      <td>190241</td>\n",
       "      <td>190707</td>\n",
       "      <td>190220</td>\n",
       "      <td>NaN</td>\n",
       "      <td>NaN</td>\n",
       "      <td>NaN</td>\n",
       "      <td>NaN</td>\n",
       "    </tr>\n",
       "  </tbody>\n",
       "</table>\n",
       "</div>"
      ],
      "text/plain": [
       "         시도명     시군구명 2017_당해년 총인구<br>(A) (명) 2018_당해년 총인구<br>(A) (명)  \\\n",
       "51     인천광역시       남구                  427604                       -   \n",
       "75   세종특별자치시  세종특별자치시                  284225                  319066   \n",
       "228  제주특별자치도   제주 제주시                  492401                  501791   \n",
       "229  제주특별자치도  제주 서귀포시                  186371                  190241   \n",
       "\n",
       "    2019_당해년 총인구<br>(A) (명) 2020_당해년 총인구<br>(A) (명)  2017_건강생활실천율  \\\n",
       "51                        -                       -           NaN   \n",
       "75                   346275                  360907           NaN   \n",
       "228                  505950                  507358           NaN   \n",
       "229                  190707                  190220           NaN   \n",
       "\n",
       "     2018_건강생활실천율  2019_건강생활실천율  2020_건강생활실천율  \n",
       "51            NaN           NaN           NaN  \n",
       "75            NaN           NaN           NaN  \n",
       "228           NaN           NaN           NaN  \n",
       "229           NaN           NaN           NaN  "
      ]
     },
     "execution_count": 92,
     "metadata": {},
     "output_type": "execute_result"
    }
   ],
   "source": [
    "df.loc[df['2020_건강생활실천율'].isna()]\n",
    "# 남구 -> 미추홀구"
   ]
  },
  {
   "cell_type": "code",
   "execution_count": null,
   "metadata": {},
   "outputs": [
    {
     "data": {
      "text/plain": [
       "['data/processed/childbirth.csv',\n",
       " 'data/processed/coffee.csv',\n",
       " 'data/processed/day_care.csv',\n",
       " 'data/processed/df.csv',\n",
       " 'data/processed/driving_range.csv',\n",
       " 'data/processed/econ_active.csv',\n",
       " 'data/processed/elderly_ratio.csv',\n",
       " 'data/processed/golf_shop.csv',\n",
       " 'data/processed/kids_eng.csv',\n",
       " 'data/processed/obese_manage.csv',\n",
       " 'data/processed/undertaker.csv',\n",
       " 'data/processed/welfare_facility.csv']"
      ]
     },
     "metadata": {},
     "output_type": "display_data"
    }
   ],
   "source": [
    "files.remove('data/processed/address.csv')\n",
    "files.remove('data/processed/data.csv')\n",
    "files.remove('data/processed/data_address.csv')\n",
    "files.remove('data/processed/population.csv')\n",
    "files.remove('data/processed/healthy_life.csv')\n",
    "files"
   ]
  },
  {
   "cell_type": "code",
   "execution_count": 100,
   "metadata": {},
   "outputs": [
    {
     "data": {
      "text/html": [
       "<div>\n",
       "<style scoped>\n",
       "    .dataframe tbody tr th:only-of-type {\n",
       "        vertical-align: middle;\n",
       "    }\n",
       "\n",
       "    .dataframe tbody tr th {\n",
       "        vertical-align: top;\n",
       "    }\n",
       "\n",
       "    .dataframe thead th {\n",
       "        text-align: right;\n",
       "    }\n",
       "</style>\n",
       "<table border=\"1\" class=\"dataframe\">\n",
       "  <thead>\n",
       "    <tr style=\"text-align: right;\">\n",
       "      <th></th>\n",
       "      <th>Unnamed: 0</th>\n",
       "      <th>시도명</th>\n",
       "      <th>시군구명</th>\n",
       "      <th>2017_당해년 총인구&lt;br&gt;(A) (명)</th>\n",
       "      <th>2018_당해년 총인구&lt;br&gt;(A) (명)</th>\n",
       "      <th>2019_당해년 총인구&lt;br&gt;(A) (명)</th>\n",
       "      <th>2020_당해년 총인구&lt;br&gt;(A) (명)</th>\n",
       "      <th>2017_건강생활실천율</th>\n",
       "      <th>2018_건강생활실천율</th>\n",
       "      <th>2019_건강생활실천율</th>\n",
       "      <th>2020_건강생활실천율</th>\n",
       "      <th>2017_고령인구비율</th>\n",
       "      <th>2018_고령인구비율</th>\n",
       "      <th>2019_고령인구비율</th>\n",
       "      <th>2020_고령인구비율</th>\n",
       "      <th>2021_고령인구비율</th>\n",
       "    </tr>\n",
       "  </thead>\n",
       "  <tbody>\n",
       "    <tr>\n",
       "      <th>74</th>\n",
       "      <td>75</td>\n",
       "      <td>세종특별자치시</td>\n",
       "      <td>세종특별자치시</td>\n",
       "      <td>284225</td>\n",
       "      <td>319066</td>\n",
       "      <td>346275</td>\n",
       "      <td>360907</td>\n",
       "      <td>NaN</td>\n",
       "      <td>NaN</td>\n",
       "      <td>NaN</td>\n",
       "      <td>NaN</td>\n",
       "      <td>NaN</td>\n",
       "      <td>NaN</td>\n",
       "      <td>NaN</td>\n",
       "      <td>NaN</td>\n",
       "      <td>NaN</td>\n",
       "    </tr>\n",
       "    <tr>\n",
       "      <th>227</th>\n",
       "      <td>228</td>\n",
       "      <td>제주특별자치도</td>\n",
       "      <td>제주 제주시</td>\n",
       "      <td>492401</td>\n",
       "      <td>501791</td>\n",
       "      <td>505950</td>\n",
       "      <td>507358</td>\n",
       "      <td>NaN</td>\n",
       "      <td>NaN</td>\n",
       "      <td>NaN</td>\n",
       "      <td>NaN</td>\n",
       "      <td>NaN</td>\n",
       "      <td>NaN</td>\n",
       "      <td>NaN</td>\n",
       "      <td>NaN</td>\n",
       "      <td>NaN</td>\n",
       "    </tr>\n",
       "    <tr>\n",
       "      <th>228</th>\n",
       "      <td>229</td>\n",
       "      <td>제주특별자치도</td>\n",
       "      <td>제주 서귀포시</td>\n",
       "      <td>186371</td>\n",
       "      <td>190241</td>\n",
       "      <td>190707</td>\n",
       "      <td>190220</td>\n",
       "      <td>NaN</td>\n",
       "      <td>NaN</td>\n",
       "      <td>NaN</td>\n",
       "      <td>NaN</td>\n",
       "      <td>NaN</td>\n",
       "      <td>NaN</td>\n",
       "      <td>NaN</td>\n",
       "      <td>NaN</td>\n",
       "      <td>NaN</td>\n",
       "    </tr>\n",
       "  </tbody>\n",
       "</table>\n",
       "</div>"
      ],
      "text/plain": [
       "     Unnamed: 0      시도명     시군구명  2017_당해년 총인구<br>(A) (명)  \\\n",
       "74           75  세종특별자치시  세종특별자치시                   284225   \n",
       "227         228  제주특별자치도   제주 제주시                   492401   \n",
       "228         229  제주특별자치도  제주 서귀포시                   186371   \n",
       "\n",
       "     2018_당해년 총인구<br>(A) (명)  2019_당해년 총인구<br>(A) (명)  \\\n",
       "74                    319066                   346275   \n",
       "227                   501791                   505950   \n",
       "228                   190241                   190707   \n",
       "\n",
       "     2020_당해년 총인구<br>(A) (명)  2017_건강생활실천율  2018_건강생활실천율  2019_건강생활실천율  \\\n",
       "74                    360907           NaN           NaN           NaN   \n",
       "227                   507358           NaN           NaN           NaN   \n",
       "228                   190220           NaN           NaN           NaN   \n",
       "\n",
       "     2020_건강생활실천율  2017_고령인구비율  2018_고령인구비율  2019_고령인구비율  2020_고령인구비율  \\\n",
       "74            NaN          NaN          NaN          NaN          NaN   \n",
       "227           NaN          NaN          NaN          NaN          NaN   \n",
       "228           NaN          NaN          NaN          NaN          NaN   \n",
       "\n",
       "     2021_고령인구비율  \n",
       "74           NaN  \n",
       "227          NaN  \n",
       "228          NaN  "
      ]
     },
     "execution_count": 100,
     "metadata": {},
     "output_type": "execute_result"
    }
   ],
   "source": [
    "df.loc[df['2017_고령인구비율'].isna()]\n"
   ]
  },
  {
   "cell_type": "code",
   "execution_count": 101,
   "metadata": {},
   "outputs": [
    {
     "data": {
      "text/html": [
       "<div>\n",
       "<style scoped>\n",
       "    .dataframe tbody tr th:only-of-type {\n",
       "        vertical-align: middle;\n",
       "    }\n",
       "\n",
       "    .dataframe tbody tr th {\n",
       "        vertical-align: top;\n",
       "    }\n",
       "\n",
       "    .dataframe thead th {\n",
       "        text-align: right;\n",
       "    }\n",
       "</style>\n",
       "<table border=\"1\" class=\"dataframe\">\n",
       "  <thead>\n",
       "    <tr style=\"text-align: right;\">\n",
       "      <th></th>\n",
       "      <th>시도명</th>\n",
       "      <th>시군구명</th>\n",
       "      <th>2017_당해년 총인구&lt;br&gt;(A) (명)</th>\n",
       "      <th>2018_당해년 총인구&lt;br&gt;(A) (명)</th>\n",
       "      <th>2019_당해년 총인구&lt;br&gt;(A) (명)</th>\n",
       "      <th>2020_당해년 총인구&lt;br&gt;(A) (명)</th>\n",
       "      <th>2017_건강생활실천율</th>\n",
       "      <th>2018_건강생활실천율</th>\n",
       "      <th>2019_건강생활실천율</th>\n",
       "      <th>2020_건강생활실천율</th>\n",
       "    </tr>\n",
       "  </thead>\n",
       "  <tbody>\n",
       "    <tr>\n",
       "      <th>0</th>\n",
       "      <td>서울특별시</td>\n",
       "      <td>종로구</td>\n",
       "      <td>164257</td>\n",
       "      <td>163026</td>\n",
       "      <td>161869</td>\n",
       "      <td>158996</td>\n",
       "      <td>38.6</td>\n",
       "      <td>51.5</td>\n",
       "      <td>32.1</td>\n",
       "      <td>37.8</td>\n",
       "    </tr>\n",
       "    <tr>\n",
       "      <th>1</th>\n",
       "      <td>서울특별시</td>\n",
       "      <td>중구</td>\n",
       "      <td>134593</td>\n",
       "      <td>135633</td>\n",
       "      <td>136488</td>\n",
       "      <td>134635</td>\n",
       "      <td>49.6</td>\n",
       "      <td>51.1</td>\n",
       "      <td>49.7</td>\n",
       "      <td>37.0</td>\n",
       "    </tr>\n",
       "    <tr>\n",
       "      <th>2</th>\n",
       "      <td>서울특별시</td>\n",
       "      <td>용산구</td>\n",
       "      <td>244444</td>\n",
       "      <td>245090</td>\n",
       "      <td>245185</td>\n",
       "      <td>244645</td>\n",
       "      <td>43.9</td>\n",
       "      <td>54.3</td>\n",
       "      <td>55.7</td>\n",
       "      <td>48.2</td>\n",
       "    </tr>\n",
       "    <tr>\n",
       "      <th>3</th>\n",
       "      <td>서울특별시</td>\n",
       "      <td>성동구</td>\n",
       "      <td>312711</td>\n",
       "      <td>316463</td>\n",
       "      <td>308979</td>\n",
       "      <td>300505</td>\n",
       "      <td>43.5</td>\n",
       "      <td>52.8</td>\n",
       "      <td>44.9</td>\n",
       "      <td>39.5</td>\n",
       "    </tr>\n",
       "    <tr>\n",
       "      <th>4</th>\n",
       "      <td>서울특별시</td>\n",
       "      <td>광진구</td>\n",
       "      <td>372298</td>\n",
       "      <td>371063</td>\n",
       "      <td>366972</td>\n",
       "      <td>360109</td>\n",
       "      <td>46.7</td>\n",
       "      <td>41.2</td>\n",
       "      <td>43.5</td>\n",
       "      <td>42.7</td>\n",
       "    </tr>\n",
       "    <tr>\n",
       "      <th>...</th>\n",
       "      <td>...</td>\n",
       "      <td>...</td>\n",
       "      <td>...</td>\n",
       "      <td>...</td>\n",
       "      <td>...</td>\n",
       "      <td>...</td>\n",
       "      <td>...</td>\n",
       "      <td>...</td>\n",
       "      <td>...</td>\n",
       "      <td>...</td>\n",
       "    </tr>\n",
       "    <tr>\n",
       "      <th>225</th>\n",
       "      <td>경상남도</td>\n",
       "      <td>함양군</td>\n",
       "      <td>40582</td>\n",
       "      <td>40462</td>\n",
       "      <td>40141</td>\n",
       "      <td>39506</td>\n",
       "      <td>14.2</td>\n",
       "      <td>23.4</td>\n",
       "      <td>12.2</td>\n",
       "      <td>20.5</td>\n",
       "    </tr>\n",
       "    <tr>\n",
       "      <th>226</th>\n",
       "      <td>경상남도</td>\n",
       "      <td>거창군</td>\n",
       "      <td>63290</td>\n",
       "      <td>62958</td>\n",
       "      <td>62726</td>\n",
       "      <td>62005</td>\n",
       "      <td>13.2</td>\n",
       "      <td>18.1</td>\n",
       "      <td>20.3</td>\n",
       "      <td>17.8</td>\n",
       "    </tr>\n",
       "    <tr>\n",
       "      <th>227</th>\n",
       "      <td>경상남도</td>\n",
       "      <td>합천군</td>\n",
       "      <td>47542</td>\n",
       "      <td>46458</td>\n",
       "      <td>45799</td>\n",
       "      <td>44582</td>\n",
       "      <td>17.8</td>\n",
       "      <td>14.1</td>\n",
       "      <td>17.1</td>\n",
       "      <td>16.2</td>\n",
       "    </tr>\n",
       "    <tr>\n",
       "      <th>228</th>\n",
       "      <td>제주특별자치도</td>\n",
       "      <td>제주 제주시</td>\n",
       "      <td>492401</td>\n",
       "      <td>501791</td>\n",
       "      <td>505950</td>\n",
       "      <td>507358</td>\n",
       "      <td>NaN</td>\n",
       "      <td>NaN</td>\n",
       "      <td>NaN</td>\n",
       "      <td>NaN</td>\n",
       "    </tr>\n",
       "    <tr>\n",
       "      <th>229</th>\n",
       "      <td>제주특별자치도</td>\n",
       "      <td>제주 서귀포시</td>\n",
       "      <td>186371</td>\n",
       "      <td>190241</td>\n",
       "      <td>190707</td>\n",
       "      <td>190220</td>\n",
       "      <td>NaN</td>\n",
       "      <td>NaN</td>\n",
       "      <td>NaN</td>\n",
       "      <td>NaN</td>\n",
       "    </tr>\n",
       "  </tbody>\n",
       "</table>\n",
       "<p>230 rows × 10 columns</p>\n",
       "</div>"
      ],
      "text/plain": [
       "         시도명     시군구명 2017_당해년 총인구<br>(A) (명) 2018_당해년 총인구<br>(A) (명)  \\\n",
       "0      서울특별시      종로구                  164257                  163026   \n",
       "1      서울특별시       중구                  134593                  135633   \n",
       "2      서울특별시      용산구                  244444                  245090   \n",
       "3      서울특별시      성동구                  312711                  316463   \n",
       "4      서울특별시      광진구                  372298                  371063   \n",
       "..       ...      ...                     ...                     ...   \n",
       "225     경상남도      함양군                   40582                   40462   \n",
       "226     경상남도      거창군                   63290                   62958   \n",
       "227     경상남도      합천군                   47542                   46458   \n",
       "228  제주특별자치도   제주 제주시                  492401                  501791   \n",
       "229  제주특별자치도  제주 서귀포시                  186371                  190241   \n",
       "\n",
       "    2019_당해년 총인구<br>(A) (명) 2020_당해년 총인구<br>(A) (명)  2017_건강생활실천율  \\\n",
       "0                    161869                  158996          38.6   \n",
       "1                    136488                  134635          49.6   \n",
       "2                    245185                  244645          43.9   \n",
       "3                    308979                  300505          43.5   \n",
       "4                    366972                  360109          46.7   \n",
       "..                      ...                     ...           ...   \n",
       "225                   40141                   39506          14.2   \n",
       "226                   62726                   62005          13.2   \n",
       "227                   45799                   44582          17.8   \n",
       "228                  505950                  507358           NaN   \n",
       "229                  190707                  190220           NaN   \n",
       "\n",
       "     2018_건강생활실천율  2019_건강생활실천율  2020_건강생활실천율  \n",
       "0            51.5          32.1          37.8  \n",
       "1            51.1          49.7          37.0  \n",
       "2            54.3          55.7          48.2  \n",
       "3            52.8          44.9          39.5  \n",
       "4            41.2          43.5          42.7  \n",
       "..            ...           ...           ...  \n",
       "225          23.4          12.2          20.5  \n",
       "226          18.1          20.3          17.8  \n",
       "227          14.1          17.1          16.2  \n",
       "228           NaN           NaN           NaN  \n",
       "229           NaN           NaN           NaN  \n",
       "\n",
       "[230 rows x 10 columns]"
      ]
     },
     "execution_count": 101,
     "metadata": {},
     "output_type": "execute_result"
    }
   ],
   "source": [
    "df = pd.read_csv('./data/processed/df.csv', encoding='cp949')\n",
    "df = pd.merge(population, healthy_life, how='left', on=['시도명', '시군구명'])\n",
    "df"
   ]
  },
  {
   "cell_type": "code",
   "execution_count": 103,
   "metadata": {},
   "outputs": [
    {
     "data": {
      "text/plain": [
       "시도명                        0\n",
       "시군구명                       0\n",
       "2017_당해년 총인구<br>(A) (명)    0\n",
       "2018_당해년 총인구<br>(A) (명)    0\n",
       "2019_당해년 총인구<br>(A) (명)    0\n",
       "2020_당해년 총인구<br>(A) (명)    0\n",
       "2017_건강생활실천율               4\n",
       "2018_건강생활실천율               4\n",
       "2019_건강생활실천율               4\n",
       "2020_건강생활실천율               4\n",
       "dtype: int64"
      ]
     },
     "execution_count": 103,
     "metadata": {},
     "output_type": "execute_result"
    }
   ],
   "source": [
    "df.isna().sum()"
   ]
  },
  {
   "cell_type": "code",
   "execution_count": 104,
   "metadata": {},
   "outputs": [],
   "source": [
    "df.to_csv('./data/processed/df.csv', encoding='cp949', index=False)"
   ]
  },
  {
   "cell_type": "code",
   "execution_count": 107,
   "metadata": {},
   "outputs": [
    {
     "data": {
      "text/plain": [
       "시도명                        0\n",
       "시군구명                       0\n",
       "2017_당해년 총인구<br>(A) (명)    0\n",
       "2018_당해년 총인구<br>(A) (명)    0\n",
       "2019_당해년 총인구<br>(A) (명)    0\n",
       "2020_당해년 총인구<br>(A) (명)    0\n",
       "2017_건강생활실천율               0\n",
       "2018_건강생활실천율               0\n",
       "2019_건강생활실천율               0\n",
       "2020_건강생활실천율               0\n",
       "2017_고령인구비율                1\n",
       "2018_고령인구비율                1\n",
       "2019_고령인구비율                1\n",
       "2020_고령인구비율                1\n",
       "2021_고령인구비율                1\n",
       "dtype: int64"
      ]
     },
     "execution_count": 107,
     "metadata": {},
     "output_type": "execute_result"
    }
   ],
   "source": [
    "df = pd.read_csv('./data/processed/df.csv', encoding='cp949')\n",
    "elderly_ratio = pd.read_csv(\n",
    "    './data/processed/elderly_ratio.csv', encoding='cp949')\n",
    "elderly_ratio = elderly_ratio.drop_duplicates(\n",
    "    subset=['시도명', '시군구명'], keep='first')\n",
    "elderly_ratio.to_csv('./data/processed/elderly_ratio.csv',\n",
    "                     encoding='cp949', index=False)\n",
    "df = pd.merge(df, elderly_ratio, how='left', on=['시도명', '시군구명'])\n",
    "df.isna().sum()\n"
   ]
  },
  {
   "cell_type": "code",
   "execution_count": 110,
   "metadata": {},
   "outputs": [],
   "source": [
    "df.to_csv('./data/processed/df.csv', encoding='cp949', index=False)\n",
    "df = pd.read_csv('./data/processed/df.csv', encoding='cp949')\n",
    "files.remove('data/processed/elderly_ratio.csv')\n",
    "files.remove('data/processed/df.csv')\n"
   ]
  },
  {
   "cell_type": "markdown",
   "metadata": {},
   "source": [
    "files."
   ]
  },
  {
   "cell_type": "code",
   "execution_count": 111,
   "metadata": {},
   "outputs": [
    {
     "data": {
      "text/plain": [
       "['data/processed/childbirth.csv',\n",
       " 'data/processed/coffee.csv',\n",
       " 'data/processed/day_care.csv',\n",
       " 'data/processed/driving_range.csv',\n",
       " 'data/processed/econ_active.csv',\n",
       " 'data/processed/golf_shop.csv',\n",
       " 'data/processed/kids_eng.csv',\n",
       " 'data/processed/obese_manage.csv',\n",
       " 'data/processed/undertaker.csv',\n",
       " 'data/processed/welfare_facility.csv']"
      ]
     },
     "execution_count": 111,
     "metadata": {},
     "output_type": "execute_result"
    }
   ],
   "source": [
    "files"
   ]
  },
  {
   "cell_type": "code",
   "execution_count": 125,
   "metadata": {},
   "outputs": [
    {
     "data": {
      "text/plain": [
       "시도명                        0\n",
       "시군구명                       0\n",
       "2017_당해년 총인구<br>(A) (명)    0\n",
       "2018_당해년 총인구<br>(A) (명)    0\n",
       "2019_당해년 총인구<br>(A) (명)    0\n",
       "2020_당해년 총인구<br>(A) (명)    0\n",
       "2017_건강생활실천율               0\n",
       "2018_건강생활실천율               0\n",
       "2019_건강생활실천율               0\n",
       "2020_건강생활실천율               0\n",
       "2017_고령인구비율                1\n",
       "2018_고령인구비율                1\n",
       "2019_고령인구비율                1\n",
       "2020_고령인구비율                1\n",
       "2021_고령인구비율                1\n",
       "2017_출생률                   0\n",
       "2018_출생률                   0\n",
       "2019_출생률                   0\n",
       "2020_출생률                   0\n",
       "dtype: int64"
      ]
     },
     "execution_count": 125,
     "metadata": {},
     "output_type": "execute_result"
    }
   ],
   "source": [
    "df = pd.read_csv('./data/processed/df.csv', encoding='cp949')\n",
    "childbirth = pd.read_csv(\n",
    "    './data/processed/childbirth.csv', encoding='cp949')\n",
    "childbirth = childbirth.drop_duplicates(\n",
    "    subset=['시도명', '시군구명'], keep='first')\n",
    "childbirth.to_csv('./data/processed/childbirth.csv',\n",
    "                     encoding='cp949', index=False)\n",
    "df = pd.merge(df, childbirth, how='left', on=['시도명', '시군구명'])\n",
    "df.isna().sum()\n"
   ]
  },
  {
   "cell_type": "code",
   "execution_count": 126,
   "metadata": {},
   "outputs": [
    {
     "data": {
      "text/plain": [
       "['data/processed/childbirth.csv',\n",
       " 'data/processed/coffee.csv',\n",
       " 'data/processed/day_care.csv',\n",
       " 'data/processed/driving_range.csv',\n",
       " 'data/processed/econ_active.csv',\n",
       " 'data/processed/golf_shop.csv',\n",
       " 'data/processed/kids_eng.csv',\n",
       " 'data/processed/obese_manage.csv',\n",
       " 'data/processed/undertaker.csv',\n",
       " 'data/processed/welfare_facility.csv']"
      ]
     },
     "execution_count": 126,
     "metadata": {},
     "output_type": "execute_result"
    }
   ],
   "source": [
    "df.to_csv('./data/processed/df.csv', encoding='cp949', index=False)\n",
    "df = pd.read_csv('./data/processed/df.csv', encoding='cp949')\n",
    "files"
   ]
  },
  {
   "cell_type": "code",
   "execution_count": 127,
   "metadata": {},
   "outputs": [],
   "source": [
    "files.remove('data/processed/childbirth.csv')\n"
   ]
  },
  {
   "cell_type": "code",
   "execution_count": 128,
   "metadata": {},
   "outputs": [
    {
     "data": {
      "text/plain": [
       "시도명                        0\n",
       "시군구명                       0\n",
       "2017_당해년 총인구<br>(A) (명)    0\n",
       "2018_당해년 총인구<br>(A) (명)    0\n",
       "2019_당해년 총인구<br>(A) (명)    0\n",
       "2020_당해년 총인구<br>(A) (명)    0\n",
       "2017_건강생활실천율               0\n",
       "2018_건강생활실천율               0\n",
       "2019_건강생활실천율               0\n",
       "2020_건강생활실천율               0\n",
       "2017_고령인구비율                1\n",
       "2018_고령인구비율                1\n",
       "2019_고령인구비율                1\n",
       "2020_고령인구비율                1\n",
       "2021_고령인구비율                1\n",
       "2017_출생률                   0\n",
       "2018_출생률                   0\n",
       "2019_출생률                   0\n",
       "2020_출생률                   0\n",
       "커피매장수                      1\n",
       "dtype: int64"
      ]
     },
     "execution_count": 128,
     "metadata": {},
     "output_type": "execute_result"
    }
   ],
   "source": [
    "coffee = pd.read_csv(\n",
    "    'data/processed/coffee.csv', encoding='cp949')\n",
    "coffee = coffee.drop_duplicates(\n",
    "    subset=['시도명', '시군구명'], keep='first')\n",
    "coffee.to_csv('./data/processed/coffee.csv',\n",
    "                  encoding='cp949', index=False)\n",
    "df = pd.merge(df, coffee, how='left', on=['시도명', '시군구명'])\n",
    "df.isna().sum()\n"
   ]
  },
  {
   "cell_type": "code",
   "execution_count": 129,
   "metadata": {},
   "outputs": [
    {
     "data": {
      "text/html": [
       "<div>\n",
       "<style scoped>\n",
       "    .dataframe tbody tr th:only-of-type {\n",
       "        vertical-align: middle;\n",
       "    }\n",
       "\n",
       "    .dataframe tbody tr th {\n",
       "        vertical-align: top;\n",
       "    }\n",
       "\n",
       "    .dataframe thead th {\n",
       "        text-align: right;\n",
       "    }\n",
       "</style>\n",
       "<table border=\"1\" class=\"dataframe\">\n",
       "  <thead>\n",
       "    <tr style=\"text-align: right;\">\n",
       "      <th></th>\n",
       "      <th>시도명</th>\n",
       "      <th>시군구명</th>\n",
       "      <th>2017_당해년 총인구&lt;br&gt;(A) (명)</th>\n",
       "      <th>2018_당해년 총인구&lt;br&gt;(A) (명)</th>\n",
       "      <th>2019_당해년 총인구&lt;br&gt;(A) (명)</th>\n",
       "      <th>2020_당해년 총인구&lt;br&gt;(A) (명)</th>\n",
       "      <th>2017_건강생활실천율</th>\n",
       "      <th>2018_건강생활실천율</th>\n",
       "      <th>2019_건강생활실천율</th>\n",
       "      <th>2020_건강생활실천율</th>\n",
       "      <th>2017_고령인구비율</th>\n",
       "      <th>2018_고령인구비율</th>\n",
       "      <th>2019_고령인구비율</th>\n",
       "      <th>2020_고령인구비율</th>\n",
       "      <th>2021_고령인구비율</th>\n",
       "      <th>2017_출생률</th>\n",
       "      <th>2018_출생률</th>\n",
       "      <th>2019_출생률</th>\n",
       "      <th>2020_출생률</th>\n",
       "      <th>커피매장수</th>\n",
       "    </tr>\n",
       "  </thead>\n",
       "  <tbody>\n",
       "    <tr>\n",
       "      <th>74</th>\n",
       "      <td>세종특별자치시</td>\n",
       "      <td>세종시</td>\n",
       "      <td>284225</td>\n",
       "      <td>319066</td>\n",
       "      <td>346275</td>\n",
       "      <td>360907</td>\n",
       "      <td>25.5</td>\n",
       "      <td>21.3</td>\n",
       "      <td>25.5</td>\n",
       "      <td>23.4</td>\n",
       "      <td>NaN</td>\n",
       "      <td>NaN</td>\n",
       "      <td>NaN</td>\n",
       "      <td>NaN</td>\n",
       "      <td>NaN</td>\n",
       "      <td>1.67</td>\n",
       "      <td>1.57</td>\n",
       "      <td>1.47</td>\n",
       "      <td>1.28</td>\n",
       "      <td>NaN</td>\n",
       "    </tr>\n",
       "  </tbody>\n",
       "</table>\n",
       "</div>"
      ],
      "text/plain": [
       "        시도명 시군구명  2017_당해년 총인구<br>(A) (명)  2018_당해년 총인구<br>(A) (명)  \\\n",
       "74  세종특별자치시  세종시                   284225                   319066   \n",
       "\n",
       "    2019_당해년 총인구<br>(A) (명)  2020_당해년 총인구<br>(A) (명)  2017_건강생활실천율  \\\n",
       "74                   346275                   360907          25.5   \n",
       "\n",
       "    2018_건강생활실천율  2019_건강생활실천율  2020_건강생활실천율  2017_고령인구비율  2018_고령인구비율  \\\n",
       "74          21.3          25.5          23.4          NaN          NaN   \n",
       "\n",
       "    2019_고령인구비율  2020_고령인구비율  2021_고령인구비율  2017_출생률  2018_출생률  2019_출생률  \\\n",
       "74          NaN          NaN          NaN      1.67      1.57      1.47   \n",
       "\n",
       "    2020_출생률  커피매장수  \n",
       "74      1.28    NaN  "
      ]
     },
     "execution_count": 129,
     "metadata": {},
     "output_type": "execute_result"
    }
   ],
   "source": [
    "df[df['커피매장수'].isna()]"
   ]
  },
  {
   "cell_type": "code",
   "execution_count": 131,
   "metadata": {},
   "outputs": [
    {
     "data": {
      "text/plain": [
       "['data/processed/coffee.csv',\n",
       " 'data/processed/day_care.csv',\n",
       " 'data/processed/driving_range.csv',\n",
       " 'data/processed/econ_active.csv',\n",
       " 'data/processed/golf_shop.csv',\n",
       " 'data/processed/kids_eng.csv',\n",
       " 'data/processed/obese_manage.csv',\n",
       " 'data/processed/undertaker.csv',\n",
       " 'data/processed/welfare_facility.csv']"
      ]
     },
     "execution_count": 131,
     "metadata": {},
     "output_type": "execute_result"
    }
   ],
   "source": [
    "df.to_csv('./data/processed/df.csv', encoding='cp949', index=False)\n",
    "df = pd.read_csv('./data/processed/df.csv', encoding='cp949')\n",
    "files\n"
   ]
  },
  {
   "cell_type": "code",
   "execution_count": 132,
   "metadata": {},
   "outputs": [],
   "source": [
    "files.remove('data/processed/coffee.csv')\n"
   ]
  },
  {
   "cell_type": "code",
   "execution_count": 133,
   "metadata": {},
   "outputs": [
    {
     "data": {
      "text/plain": [
       "시도명                        0\n",
       "시군구명                       0\n",
       "2017_당해년 총인구<br>(A) (명)    0\n",
       "2018_당해년 총인구<br>(A) (명)    0\n",
       "2019_당해년 총인구<br>(A) (명)    0\n",
       "2020_당해년 총인구<br>(A) (명)    0\n",
       "2017_건강생활실천율               0\n",
       "2018_건강생활실천율               0\n",
       "2019_건강생활실천율               0\n",
       "2020_건강생활실천율               0\n",
       "2017_고령인구비율                1\n",
       "2018_고령인구비율                1\n",
       "2019_고령인구비율                1\n",
       "2020_고령인구비율                1\n",
       "2021_고령인구비율                1\n",
       "2017_출생률                   0\n",
       "2018_출생률                   0\n",
       "2019_출생률                   0\n",
       "2020_출생률                   0\n",
       "커피매장수                      1\n",
       "어린이시설수                     1\n",
       "dtype: int64"
      ]
     },
     "execution_count": 133,
     "metadata": {},
     "output_type": "execute_result"
    }
   ],
   "source": [
    "day_care = pd.read_csv(\n",
    "    'data/processed/day_care.csv', encoding='cp949')\n",
    "day_care = day_care.drop_duplicates(\n",
    "    subset=['시도명', '시군구명'], keep='first')\n",
    "day_care.loc[day_care['시군구명'] == '세종특별자치시', '시군구명'] = '세종시'\n",
    "day_care.to_csv('./data/processed/day_care.csv',\n",
    "              encoding='cp949', index=False)\n",
    "df = pd.merge(df, day_care, how='left', on=['시도명', '시군구명'])\n",
    "df.isna().sum()\n"
   ]
  },
  {
   "cell_type": "code",
   "execution_count": 134,
   "metadata": {},
   "outputs": [],
   "source": [
    "df.to_csv('./data/processed/df.csv', encoding='cp949', index=False)\n"
   ]
  },
  {
   "cell_type": "code",
   "execution_count": 135,
   "metadata": {},
   "outputs": [
    {
     "data": {
      "text/plain": [
       "['data/processed/day_care.csv',\n",
       " 'data/processed/driving_range.csv',\n",
       " 'data/processed/econ_active.csv',\n",
       " 'data/processed/golf_shop.csv',\n",
       " 'data/processed/kids_eng.csv',\n",
       " 'data/processed/obese_manage.csv',\n",
       " 'data/processed/undertaker.csv',\n",
       " 'data/processed/welfare_facility.csv']"
      ]
     },
     "execution_count": 135,
     "metadata": {},
     "output_type": "execute_result"
    }
   ],
   "source": [
    "df = pd.read_csv('./data/processed/df.csv', encoding='cp949')\n",
    "files\n"
   ]
  },
  {
   "cell_type": "code",
   "execution_count": 136,
   "metadata": {},
   "outputs": [],
   "source": [
    "files.remove('data/processed/day_care.csv')\n"
   ]
  },
  {
   "cell_type": "code",
   "execution_count": 137,
   "metadata": {},
   "outputs": [
    {
     "data": {
      "text/plain": [
       "시도명                          0\n",
       "시군구명                         0\n",
       "2017_당해년 총인구<br>(A) (명)      0\n",
       "2018_당해년 총인구<br>(A) (명)      0\n",
       "2019_당해년 총인구<br>(A) (명)      0\n",
       "2020_당해년 총인구<br>(A) (명)      0\n",
       "2017_건강생활실천율                 0\n",
       "2018_건강생활실천율                 0\n",
       "2019_건강생활실천율                 0\n",
       "2020_건강생활실천율                 0\n",
       "2017_고령인구비율                  1\n",
       "2018_고령인구비율                  1\n",
       "2019_고령인구비율                  1\n",
       "2020_고령인구비율                  1\n",
       "2021_고령인구비율                  1\n",
       "2017_출생률                     0\n",
       "2018_출생률                     0\n",
       "2019_출생률                     0\n",
       "2020_출생률                     0\n",
       "커피매장수                        0\n",
       "어린이시설수                       0\n",
       "실내골프장수                       6\n",
       "Unnamed: 3                 229\n",
       "dtype: int64"
      ]
     },
     "execution_count": 137,
     "metadata": {},
     "output_type": "execute_result"
    }
   ],
   "source": [
    "driving_range = pd.read_csv(\n",
    "    'data/processed/driving_range.csv', encoding='cp949')\n",
    "driving_range = driving_range.drop_duplicates(\n",
    "    subset=['시도명', '시군구명'], keep='first')\n",
    "driving_range.loc[driving_range['시군구명'] == '세종특별자치시', '시군구명'] = '세종시'\n",
    "driving_range.to_csv('./data/processed/driving_range.csv',\n",
    "                encoding='cp949', index=False)\n",
    "df = pd.merge(df, driving_range, how='left', on=['시도명', '시군구명'])\n",
    "df.to_csv('./data/processed/df.csv', encoding='cp949', index=False)\n",
    "df.isna().sum()\n"
   ]
  },
  {
   "cell_type": "code",
   "execution_count": 142,
   "metadata": {},
   "outputs": [
    {
     "data": {
      "text/plain": [
       "['data/processed/econ_active.csv',\n",
       " 'data/processed/golf_shop.csv',\n",
       " 'data/processed/kids_eng.csv',\n",
       " 'data/processed/obese_manage.csv',\n",
       " 'data/processed/undertaker.csv',\n",
       " 'data/processed/welfare_facility.csv']"
      ]
     },
     "execution_count": 142,
     "metadata": {},
     "output_type": "execute_result"
    }
   ],
   "source": [
    "df = pd.read_csv('./data/processed/df.csv', encoding='cp949')\n",
    "files\n"
   ]
  },
  {
   "cell_type": "code",
   "execution_count": 144,
   "metadata": {},
   "outputs": [],
   "source": [
    "# files.remove('data/processed/driving_range.csv')\n"
   ]
  },
  {
   "cell_type": "code",
   "execution_count": 145,
   "metadata": {},
   "outputs": [
    {
     "data": {
      "text/plain": [
       "시도명                         0\n",
       "시군구명                        0\n",
       "2017_당해년 총인구<br>(A) (명)     0\n",
       "2018_당해년 총인구<br>(A) (명)     0\n",
       "2019_당해년 총인구<br>(A) (명)     0\n",
       "2020_당해년 총인구<br>(A) (명)     0\n",
       "2017_건강생활실천율                0\n",
       "2018_건강생활실천율                0\n",
       "2019_건강생활실천율                0\n",
       "2020_건강생활실천율                0\n",
       "2017_고령인구비율                 1\n",
       "2018_고령인구비율                 1\n",
       "2019_고령인구비율                 1\n",
       "2020_고령인구비율                 1\n",
       "2021_고령인구비율                 1\n",
       "2017_출생률                    0\n",
       "2018_출생률                    0\n",
       "2019_출생률                    0\n",
       "2020_출생률                    0\n",
       "커피매장수                       0\n",
       "어린이시설수                      0\n",
       "실내골프장수                      6\n",
       "골프용품판매매장수                  56\n",
       "dtype: int64"
      ]
     },
     "execution_count": 145,
     "metadata": {},
     "output_type": "execute_result"
    }
   ],
   "source": [
    "golf_shop = pd.read_csv(\n",
    "    'data/processed/golf_shop.csv', encoding='cp949')\n",
    "golf_shop = golf_shop.drop_duplicates(\n",
    "    subset=['시도명', '시군구명'], keep='first')\n",
    "golf_shop.loc[golf_shop['시군구명'] == '세종특별자치시', '시군구명'] = '세종시'\n",
    "golf_shop.to_csv('./data/processed/golf_shop.csv',\n",
    "                     encoding='cp949', index=False)\n",
    "df = pd.merge(df, golf_shop, how='left', on=['시도명', '시군구명'])\n",
    "df.to_csv('./data/processed/df.csv', encoding='cp949', index=False)\n",
    "df.isna().sum()\n"
   ]
  },
  {
   "cell_type": "code",
   "execution_count": 151,
   "metadata": {},
   "outputs": [
    {
     "data": {
      "text/plain": [
       "(173, 3)"
      ]
     },
     "execution_count": 151,
     "metadata": {},
     "output_type": "execute_result"
    }
   ],
   "source": [
    "golf_shop.shape"
   ]
  },
  {
   "cell_type": "code",
   "execution_count": 152,
   "metadata": {},
   "outputs": [
    {
     "data": {
      "text/plain": [
       "229"
      ]
     },
     "execution_count": 152,
     "metadata": {},
     "output_type": "execute_result"
    }
   ],
   "source": [
    "173+56"
   ]
  },
  {
   "cell_type": "code",
   "execution_count": 153,
   "metadata": {},
   "outputs": [
    {
     "data": {
      "text/plain": [
       "['data/processed/econ_active.csv',\n",
       " 'data/processed/golf_shop.csv',\n",
       " 'data/processed/kids_eng.csv',\n",
       " 'data/processed/obese_manage.csv',\n",
       " 'data/processed/undertaker.csv',\n",
       " 'data/processed/welfare_facility.csv']"
      ]
     },
     "execution_count": 153,
     "metadata": {},
     "output_type": "execute_result"
    }
   ],
   "source": [
    "df = pd.read_csv('./data/processed/df.csv', encoding='cp949')\n",
    "files\n"
   ]
  },
  {
   "cell_type": "code",
   "execution_count": 154,
   "metadata": {},
   "outputs": [],
   "source": [
    "files.remove('data/processed/golf_shop.csv')\n"
   ]
  },
  {
   "cell_type": "code",
   "execution_count": 155,
   "metadata": {},
   "outputs": [
    {
     "data": {
      "text/plain": [
       "시도명                         0\n",
       "시군구명                        0\n",
       "2017_당해년 총인구<br>(A) (명)     0\n",
       "2018_당해년 총인구<br>(A) (명)     0\n",
       "2019_당해년 총인구<br>(A) (명)     0\n",
       "2020_당해년 총인구<br>(A) (명)     0\n",
       "2017_건강생활실천율                0\n",
       "2018_건강생활실천율                0\n",
       "2019_건강생활실천율                0\n",
       "2020_건강생활실천율                0\n",
       "2017_고령인구비율                 1\n",
       "2018_고령인구비율                 1\n",
       "2019_고령인구비율                 1\n",
       "2020_고령인구비율                 1\n",
       "2021_고령인구비율                 1\n",
       "2017_출생률                    0\n",
       "2018_출생률                    0\n",
       "2019_출생률                    0\n",
       "2020_출생률                    0\n",
       "커피매장수                       0\n",
       "어린이시설수                      0\n",
       "실내골프장수                      6\n",
       "골프용품판매매장수                  56\n",
       "영어유치원                      41\n",
       "dtype: int64"
      ]
     },
     "execution_count": 155,
     "metadata": {},
     "output_type": "execute_result"
    }
   ],
   "source": [
    "kids_eng = pd.read_csv(\n",
    "    'data/processed/kids_eng.csv', encoding='cp949')\n",
    "kids_eng = kids_eng.drop_duplicates(\n",
    "    subset=['시도명', '시군구명'], keep='first')\n",
    "kids_eng.loc[kids_eng['시군구명'] == '세종특별자치시', '시군구명'] = '세종시'\n",
    "kids_eng.to_csv('./data/processed/kids_eng.csv',\n",
    "                 encoding='cp949', index=False)\n",
    "df = pd.merge(df, kids_eng, how='left', on=['시도명', '시군구명'])\n",
    "df.to_csv('./data/processed/df.csv', encoding='cp949', index=False)\n",
    "df.isna().sum()\n"
   ]
  },
  {
   "cell_type": "code",
   "execution_count": 156,
   "metadata": {},
   "outputs": [
    {
     "data": {
      "text/plain": [
       "(188, 3)"
      ]
     },
     "execution_count": 156,
     "metadata": {},
     "output_type": "execute_result"
    }
   ],
   "source": [
    "kids_eng.shape"
   ]
  },
  {
   "cell_type": "code",
   "execution_count": 157,
   "metadata": {},
   "outputs": [
    {
     "data": {
      "text/plain": [
       "229"
      ]
     },
     "execution_count": 157,
     "metadata": {},
     "output_type": "execute_result"
    }
   ],
   "source": [
    "188+41"
   ]
  },
  {
   "cell_type": "code",
   "execution_count": 158,
   "metadata": {},
   "outputs": [
    {
     "data": {
      "text/plain": [
       "['data/processed/econ_active.csv',\n",
       " 'data/processed/kids_eng.csv',\n",
       " 'data/processed/obese_manage.csv',\n",
       " 'data/processed/undertaker.csv',\n",
       " 'data/processed/welfare_facility.csv']"
      ]
     },
     "execution_count": 158,
     "metadata": {},
     "output_type": "execute_result"
    }
   ],
   "source": [
    "df = pd.read_csv('./data/processed/df.csv', encoding='cp949')\n",
    "files\n"
   ]
  },
  {
   "cell_type": "code",
   "execution_count": 159,
   "metadata": {},
   "outputs": [],
   "source": [
    "files.remove('data/processed/kids_eng.csv')"
   ]
  },
  {
   "cell_type": "code",
   "execution_count": 160,
   "metadata": {},
   "outputs": [
    {
     "data": {
      "text/plain": [
       "시도명                         0\n",
       "시군구명                        0\n",
       "2017_당해년 총인구<br>(A) (명)     0\n",
       "2018_당해년 총인구<br>(A) (명)     0\n",
       "2019_당해년 총인구<br>(A) (명)     0\n",
       "2020_당해년 총인구<br>(A) (명)     0\n",
       "2017_건강생활실천율                0\n",
       "2018_건강생활실천율                0\n",
       "2019_건강생활실천율                0\n",
       "2020_건강생활실천율                0\n",
       "2017_고령인구비율                 1\n",
       "2018_고령인구비율                 1\n",
       "2019_고령인구비율                 1\n",
       "2020_고령인구비율                 1\n",
       "2021_고령인구비율                 1\n",
       "2017_출생률                    0\n",
       "2018_출생률                    0\n",
       "2019_출생률                    0\n",
       "2020_출생률                    0\n",
       "커피매장수                       0\n",
       "어린이시설수                      0\n",
       "실내골프장수                      6\n",
       "골프용품판매매장수                  56\n",
       "영어유치원                      41\n",
       "장의사수                        6\n",
       "dtype: int64"
      ]
     },
     "execution_count": 160,
     "metadata": {},
     "output_type": "execute_result"
    }
   ],
   "source": [
    "undertaker = pd.read_csv(\n",
    "    'data/processed/undertaker.csv', encoding='cp949')\n",
    "undertaker = undertaker.drop_duplicates(\n",
    "    subset=['시도명', '시군구명'], keep='first')\n",
    "undertaker.loc[undertaker['시군구명'] == '세종특별자치시', '시군구명'] = '세종시'\n",
    "undertaker.to_csv('./data/processed/undertaker.csv',\n",
    "                encoding='cp949', index=False)\n",
    "df = pd.merge(df, undertaker, how='left', on=['시도명', '시군구명'])\n",
    "df.to_csv('./data/processed/df.csv', encoding='cp949', index=False)\n",
    "df.isna().sum()\n"
   ]
  },
  {
   "cell_type": "code",
   "execution_count": 161,
   "metadata": {},
   "outputs": [
    {
     "data": {
      "text/plain": [
       "(223, 3)"
      ]
     },
     "execution_count": 161,
     "metadata": {},
     "output_type": "execute_result"
    }
   ],
   "source": [
    "undertaker.shape"
   ]
  },
  {
   "cell_type": "code",
   "execution_count": 164,
   "metadata": {},
   "outputs": [
    {
     "data": {
      "text/plain": [
       "['data/processed/econ_active.csv',\n",
       " 'data/processed/obese_manage.csv',\n",
       " 'data/processed/welfare_facility.csv']"
      ]
     },
     "execution_count": 164,
     "metadata": {},
     "output_type": "execute_result"
    }
   ],
   "source": [
    "df = pd.read_csv('./data/processed/df.csv', encoding='cp949')\n",
    "files"
   ]
  },
  {
   "cell_type": "code",
   "execution_count": null,
   "metadata": {},
   "outputs": [],
   "source": [
    "files.remove('data/processed/undertaker.csv')\n"
   ]
  },
  {
   "cell_type": "code",
   "execution_count": 165,
   "metadata": {},
   "outputs": [
    {
     "data": {
      "text/plain": [
       "시도명                         0\n",
       "시군구명                        0\n",
       "2017_당해년 총인구<br>(A) (명)     0\n",
       "2018_당해년 총인구<br>(A) (명)     0\n",
       "2019_당해년 총인구<br>(A) (명)     0\n",
       "2020_당해년 총인구<br>(A) (명)     0\n",
       "2017_건강생활실천율                0\n",
       "2018_건강생활실천율                0\n",
       "2019_건강생활실천율                0\n",
       "2020_건강생활실천율                0\n",
       "2017_고령인구비율                 1\n",
       "2018_고령인구비율                 1\n",
       "2019_고령인구비율                 1\n",
       "2020_고령인구비율                 1\n",
       "2021_고령인구비율                 1\n",
       "2017_출생률                    0\n",
       "2018_출생률                    0\n",
       "2019_출생률                    0\n",
       "2020_출생률                    0\n",
       "커피매장수                       0\n",
       "어린이시설수                      0\n",
       "실내골프장수                      6\n",
       "골프용품판매매장수                  56\n",
       "영어유치원                      41\n",
       "장의사수                        6\n",
       "2017_노인여가복지시설수              1\n",
       "2018_노인여가복지시설수              1\n",
       "2019_노인여가복지시설수              1\n",
       "2020_노인여가복지시설수              1\n",
       "dtype: int64"
      ]
     },
     "execution_count": 165,
     "metadata": {},
     "output_type": "execute_result"
    }
   ],
   "source": [
    "welfare_facility = pd.read_csv(\n",
    "    'data/processed/welfare_facility.csv', encoding='cp949')\n",
    "welfare_facility = welfare_facility.drop_duplicates(\n",
    "    subset=['시도명', '시군구명'], keep='first')\n",
    "welfare_facility.loc[welfare_facility['시군구명'] == '세종특별자치시', '시군구명'] = '세종시'\n",
    "welfare_facility.to_csv('./data/processed/welfare_facility.csv',\n",
    "                encoding='cp949', index=False)\n",
    "df = pd.merge(df, welfare_facility, how='left', on=['시도명', '시군구명'])\n",
    "df.to_csv('./data/processed/df.csv', encoding='cp949', index=False)\n",
    "df.isna().sum()\n"
   ]
  },
  {
   "cell_type": "code",
   "execution_count": 166,
   "metadata": {},
   "outputs": [
    {
     "data": {
      "text/plain": [
       "['data/processed/econ_active.csv',\n",
       " 'data/processed/obese_manage.csv',\n",
       " 'data/processed/welfare_facility.csv']"
      ]
     },
     "execution_count": 166,
     "metadata": {},
     "output_type": "execute_result"
    }
   ],
   "source": [
    "df = pd.read_csv('./data/processed/df.csv', encoding='cp949')\n",
    "files\n"
   ]
  },
  {
   "cell_type": "code",
   "execution_count": 167,
   "metadata": {},
   "outputs": [],
   "source": [
    "files.remove('data/processed/welfare_facility.csv')\n"
   ]
  },
  {
   "cell_type": "code",
   "execution_count": 168,
   "metadata": {},
   "outputs": [
    {
     "data": {
      "text/plain": [
       "시도명                         0\n",
       "시군구명                        0\n",
       "2017_당해년 총인구<br>(A) (명)     0\n",
       "2018_당해년 총인구<br>(A) (명)     0\n",
       "2019_당해년 총인구<br>(A) (명)     0\n",
       "2020_당해년 총인구<br>(A) (명)     0\n",
       "2017_건강생활실천율                0\n",
       "2018_건강생활실천율                0\n",
       "2019_건강생활실천율                0\n",
       "2020_건강생활실천율                0\n",
       "2017_고령인구비율                 1\n",
       "2018_고령인구비율                 1\n",
       "2019_고령인구비율                 1\n",
       "2020_고령인구비율                 1\n",
       "2021_고령인구비율                 1\n",
       "2017_출생률                    0\n",
       "2018_출생률                    0\n",
       "2019_출생률                    0\n",
       "2020_출생률                    0\n",
       "커피매장수                       0\n",
       "어린이시설수                      0\n",
       "실내골프장수                      6\n",
       "골프용품판매매장수                  56\n",
       "영어유치원                      41\n",
       "장의사수                        6\n",
       "2017_노인여가복지시설수              1\n",
       "2018_노인여가복지시설수              1\n",
       "2019_노인여가복지시설수              1\n",
       "2020_노인여가복지시설수              1\n",
       "비만및피부관리매장수                  0\n",
       "dtype: int64"
      ]
     },
     "execution_count": 168,
     "metadata": {},
     "output_type": "execute_result"
    }
   ],
   "source": [
    "obese_manage = pd.read_csv(\n",
    "    'data/processed/obese_manage.csv', encoding='cp949')\n",
    "obese_manage = obese_manage.drop_duplicates(\n",
    "    subset=['시도명', '시군구명'], keep='first')\n",
    "obese_manage.loc[obese_manage['시군구명'] == '세종특별자치시', '시군구명'] = '세종시'\n",
    "obese_manage.to_csv('./data/processed/obese_manage.csv',\n",
    "                        encoding='cp949', index=False)\n",
    "df = pd.merge(df, obese_manage, how='left', on=['시도명', '시군구명'])\n",
    "df.to_csv('./data/processed/df.csv', encoding='cp949', index=False)\n",
    "df.isna().sum()\n"
   ]
  },
  {
   "cell_type": "code",
   "execution_count": 169,
   "metadata": {},
   "outputs": [
    {
     "data": {
      "text/plain": [
       "['data/processed/econ_active.csv', 'data/processed/obese_manage.csv']"
      ]
     },
     "execution_count": 169,
     "metadata": {},
     "output_type": "execute_result"
    }
   ],
   "source": [
    "df = pd.read_csv('./data/processed/df.csv', encoding='cp949')\n",
    "files\n"
   ]
  },
  {
   "cell_type": "code",
   "execution_count": 170,
   "metadata": {},
   "outputs": [],
   "source": [
    "files.remove('data/processed/obese_manage.csv')\n"
   ]
  },
  {
   "cell_type": "code",
   "execution_count": 171,
   "metadata": {},
   "outputs": [
    {
     "data": {
      "text/plain": [
       "시도명                         0\n",
       "시군구명                        0\n",
       "2017_당해년 총인구<br>(A) (명)     0\n",
       "2018_당해년 총인구<br>(A) (명)     0\n",
       "2019_당해년 총인구<br>(A) (명)     0\n",
       "2020_당해년 총인구<br>(A) (명)     0\n",
       "2017_건강생활실천율                0\n",
       "2018_건강생활실천율                0\n",
       "2019_건강생활실천율                0\n",
       "2020_건강생활실천율                0\n",
       "2017_고령인구비율                 1\n",
       "2018_고령인구비율                 1\n",
       "2019_고령인구비율                 1\n",
       "2020_고령인구비율                 1\n",
       "2021_고령인구비율                 1\n",
       "2017_출생률                    0\n",
       "2018_출생률                    0\n",
       "2019_출생률                    0\n",
       "2020_출생률                    0\n",
       "커피매장수                       0\n",
       "어린이시설수                      0\n",
       "실내골프장수                      6\n",
       "골프용품판매매장수                  56\n",
       "영어유치원                      41\n",
       "장의사수                        6\n",
       "2017_노인여가복지시설수              1\n",
       "2018_노인여가복지시설수              1\n",
       "2019_노인여가복지시설수              1\n",
       "2020_노인여가복지시설수              1\n",
       "비만및피부관리매장수                  0\n",
       "2017_경제활동참가율_20대            2\n",
       "2017_경제활동참가율_30대            2\n",
       "2017_경제활동참가율_40대            2\n",
       "2017_경제활동참가율_50대            2\n",
       "2017_경제활동참가율_60대이상          2\n",
       "2018_경제활동참가율_20대            2\n",
       "2018_경제활동참가율_30대            2\n",
       "2018_경제활동참가율_40대            2\n",
       "2018_경제활동참가율_50대            2\n",
       "2018_경제활동참가율_60대이상          2\n",
       "2019_경제활동참가율_20대            2\n",
       "2019_경제활동참가율_30대            2\n",
       "2019_경제활동참가율_40대            2\n",
       "2019_경제활동참가율_50대            2\n",
       "2019_경제활동참가율_60대이상          2\n",
       "2020_경제활동참가율_20대            2\n",
       "2020_경제활동참가율_30대            2\n",
       "2020_경제활동참가율_40대            2\n",
       "2020_경제활동참가율_50대            2\n",
       "2020_경제활동참가율_60대이상          2\n",
       "2021_경제활동참가율_20대            2\n",
       "2021_경제활동참가율_30대            2\n",
       "2021_경제활동참가율_40대            2\n",
       "2021_경제활동참가율_50대            2\n",
       "2021_경제활동참가율_60대이상          2\n",
       "dtype: int64"
      ]
     },
     "execution_count": 171,
     "metadata": {},
     "output_type": "execute_result"
    }
   ],
   "source": [
    "econ_active = pd.read_csv(\n",
    "    'data/processed/econ_active.csv', encoding='cp949')\n",
    "df = pd.merge(df, econ_active, how='left', on='시도명')\n",
    "df.to_csv('./data/processed/df.csv', encoding='cp949', index=False)\n",
    "df.isna().sum()\n"
   ]
  },
  {
   "cell_type": "code",
   "execution_count": 172,
   "metadata": {},
   "outputs": [],
   "source": [
    "# 경제활동참가율 -> 제주도 수정 완료"
   ]
  },
  {
   "cell_type": "code",
   "execution_count": null,
   "metadata": {},
   "outputs": [],
   "source": []
  }
 ],
 "metadata": {
  "interpreter": {
   "hash": "656a610cf7529c094650ddc82c723fb6eadfe6af02f42af438dd409fb1ebbdba"
  },
  "kernelspec": {
   "display_name": "Python 3.9.7 ('base')",
   "language": "python",
   "name": "python3"
  },
  "language_info": {
   "codemirror_mode": {
    "name": "ipython",
    "version": 3
   },
   "file_extension": ".py",
   "mimetype": "text/x-python",
   "name": "python",
   "nbconvert_exporter": "python",
   "pygments_lexer": "ipython3",
   "version": "3.9.7"
  },
  "orig_nbformat": 4
 },
 "nbformat": 4,
 "nbformat_minor": 2
}
