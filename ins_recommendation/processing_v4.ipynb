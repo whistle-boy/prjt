{
 "cells": [
  {
   "cell_type": "code",
   "execution_count": 1,
   "metadata": {},
   "outputs": [],
   "source": [
    "import os\n",
    "import numpy as np\n",
    "import pandas as pd\n",
    "import matplotlib.pyplot as plt\n",
    "import seaborn as sns\n",
    "from matplotlib import font_manager, rc\n",
    "%matplotlib inline\n",
    "# from functools import reduce\n",
    "\n",
    "# set font\n",
    "font_name = font_manager.FontProperties(\n",
    "    fname='c:/Windows/Fonts/malgun.ttf').get_name()\n",
    "rc('font', family=font_name)\n",
    "# matplotlib.rcParams['axes.unicode_minus'] = False\n",
    "sns.set(font=font_name,\n",
    "        rc={'axes.unicode_minus': False})  # to show negative sign on graphs\n",
    "\n",
    "# set option\n",
    "pd.set_option('display.max_rows', 100)\n",
    "pd.set_option('display.max_columns', 100)\n",
    "pd.set_option('display.precision', 2)\n"
   ]
  },
  {
   "cell_type": "markdown",
   "metadata": {},
   "source": [
    "# 주소 전처리 최종"
   ]
  },
  {
   "cell_type": "code",
   "execution_count": 2,
   "metadata": {},
   "outputs": [],
   "source": [
    "# split 시군구\n",
    "address = pd.read_csv('./data/processed/address.csv', encoding='cp949')\n",
    "address['시군구명'] = address['시군구명'].str.split(' ', expand=True)[0]\n",
    "address = address.drop_duplicates()\n",
    "address.to_csv('./data/processed/address.csv', encoding='cp949', index=False)\n"
   ]
  },
  {
   "cell_type": "code",
   "execution_count": 4,
   "metadata": {},
   "outputs": [
    {
     "name": "stderr",
     "output_type": "stream",
     "text": [
      "C:\\Users\\joon9\\anaconda3\\lib\\site-packages\\IPython\\core\\interactiveshell.py:3444: DtypeWarning: Columns (0,1,2,6,7,8,9,10,11,12,13,14,15,20,21,22,23,24,25,26,27,28,29,30,31,32,33,34,35,36,37,38,39,40,41,42,43,44,45,46,47,48,49,50,51,52,53,54,55,56,57,58,59,60,61,62) have mixed types.Specify dtype option on import or set low_memory=False.\n",
      "  exec(code_obj, self.user_global_ns, self.user_ns)\n"
     ]
    }
   ],
   "source": [
    "data = pd.read_csv('./data/processed/data.csv', encoding='utf-8')\n",
    "data['시군구명'] = data['시군구명'].str.split(' ', expand=True)[0]\n"
   ]
  },
  {
   "cell_type": "code",
   "execution_count": 5,
   "metadata": {},
   "outputs": [],
   "source": [
    "data.to_csv('./data/processed/data.csv', encoding='utf-8', index=False)\n"
   ]
  },
  {
   "cell_type": "code",
   "execution_count": null,
   "metadata": {},
   "outputs": [],
   "source": [
    "import os\n",
    "files = []\n",
    "for file in os.listdir('data/processed'):\n",
    "    if file.endswith('.csv'):\n",
    "        file = os.path.join(\n",
    "            'data/processed', file)\n",
    "        files.append(file)\n",
    "        "
   ]
  },
  {
   "cell_type": "code",
   "execution_count": null,
   "metadata": {},
   "outputs": [
    {
     "data": {
      "text/plain": [
       "['data/processed\\\\address.csv',\n",
       " 'data/processed\\\\childbirth.csv',\n",
       " 'data/processed\\\\coffee.csv',\n",
       " 'data/processed\\\\data.csv',\n",
       " 'data/processed\\\\data_address.csv',\n",
       " 'data/processed\\\\day_care.csv',\n",
       " 'data/processed\\\\driving_range.csv',\n",
       " 'data/processed\\\\econ_active.csv',\n",
       " 'data/processed\\\\elderly_ratio.csv',\n",
       " 'data/processed\\\\golf_shop.csv',\n",
       " 'data/processed\\\\healthy_life.csv',\n",
       " 'data/processed\\\\kids_eng.csv',\n",
       " 'data/processed\\\\obese_manage.csv',\n",
       " 'data/processed\\\\population_growth.csv',\n",
       " 'data/processed\\\\undertaker.csv',\n",
       " 'data/processed\\\\welfare_facility.csv']"
      ]
     },
     "execution_count": 77,
     "metadata": {},
     "output_type": "execute_result"
    }
   ],
   "source": [
    "files"
   ]
  },
  {
   "cell_type": "code",
   "execution_count": null,
   "metadata": {},
   "outputs": [],
   "source": [
    "needless = ['data/processed\\\\address.csv',\n",
    "            'data/processed\\\\data.csv',\n",
    "            'data/processed\\\\data_address.csv']\n",
    "\n",
    "for i in needless:\n",
    "    files.remove(i)\n"
   ]
  },
  {
   "cell_type": "code",
   "execution_count": 79,
   "metadata": {},
   "outputs": [
    {
     "name": "stdout",
     "output_type": "stream",
     "text": [
      "data/processed\\econ_active.csv\n"
     ]
    }
   ],
   "source": [
    "for file in files:\n",
    "    temp = pd.read_csv(file, encoding='cp949')\n",
    "    try:\n",
    "        temp['시군구명'] = temp['시군구명'].str.split(' ', expand=True)[0]\n",
    "        temp.to_csv(file, encoding='cp949')\n",
    "    except:\n",
    "        print(file)\n",
    "        continue\n"
   ]
  },
  {
   "cell_type": "code",
   "execution_count": 7,
   "metadata": {},
   "outputs": [],
   "source": [
    "check1 = set()\n",
    "check2 = set()\n",
    "# check by address\n",
    "\n",
    "\n",
    "def check(dataframe):\n",
    "    check_address = address['시도명']+' '+address['시군구명']\n",
    "    check_dataframe = dataframe['시도명']+' '+dataframe['시군구명']\n",
    "    result1 = set(check_address) - set(check_dataframe)\n",
    "    check1.update(result1)\n",
    "    result2 = set(check_dataframe) - set(check_address)\n",
    "    check2.update(result2)\n",
    "    return print(f'result1\\n{result1}\\n\\nresult2\\n{result2}')\n"
   ]
  },
  {
   "cell_type": "code",
   "execution_count": 81,
   "metadata": {},
   "outputs": [
    {
     "data": {
      "text/plain": [
       "['data/processed\\\\childbirth.csv',\n",
       " 'data/processed\\\\coffee.csv',\n",
       " 'data/processed\\\\day_care.csv',\n",
       " 'data/processed\\\\driving_range.csv',\n",
       " 'data/processed\\\\elderly_ratio.csv',\n",
       " 'data/processed\\\\golf_shop.csv',\n",
       " 'data/processed\\\\healthy_life.csv',\n",
       " 'data/processed\\\\kids_eng.csv',\n",
       " 'data/processed\\\\obese_manage.csv',\n",
       " 'data/processed\\\\population_growth.csv',\n",
       " 'data/processed\\\\undertaker.csv',\n",
       " 'data/processed\\\\welfare_facility.csv']"
      ]
     },
     "execution_count": 81,
     "metadata": {},
     "output_type": "execute_result"
    }
   ],
   "source": [
    "files.remove('data/processed\\econ_active.csv')\n",
    "files"
   ]
  },
  {
   "cell_type": "code",
   "execution_count": 82,
   "metadata": {},
   "outputs": [
    {
     "name": "stdout",
     "output_type": "stream",
     "text": [
      "result1\n",
      "{'충청북도 청원군', '인천광역시 남구'}\n",
      "\n",
      "result2\n",
      "{'경상남도 마산회원구', '경기도 일산서구', '경기도 중원구', '전라북도 덕진구', '경기도 만안구', '경기도 장안구', '경기도 덕양구', '충청북도 청원구', '경기도 단원구', '경상남도 마산합포구', '경상남도 성산구', '경기도 동안구', '경기도 일산동구', '경기도 팔달구', '충청남도 서북구', '경상북도 북구', '경상북도 남구', '충청북도 흥덕구', '경상남도 진해구', '경상남도 의창구', '충청북도 상당구', '경기도 상록구', '경기도 영통구', '충청북도 서원구', '경기도 기흥구', '경기도 처인구', '전라북도 완산구', '경기도 수지구', '경기도 분당구', '경기도 권선구', '충청남도 동남구', '경기도 수정구'}\n",
      "result1\n",
      "{'충청북도 청원군', '세종특별자치시 세종시', '인천광역시 남구'}\n",
      "\n",
      "result2\n",
      "{'세종특별자치시 세종특별자치시'}\n",
      "result1\n",
      "{'충청북도 청원군', '세종특별자치시 세종시', '인천광역시 남구', '경상북도 울릉군'}\n",
      "\n",
      "result2\n",
      "{'세종특별자치시 세종특별자치시'}\n",
      "result1\n",
      "{'충청북도 청원군', '경상북도 울릉군', '경상북도 청도군', '경상북도 영양군', '인천광역시 남구', '충청북도 괴산군', '세종특별자치시 세종시', '전라남도 화순군', '전라북도 장수군'}\n",
      "\n",
      "result2\n",
      "{'세종특별자치시 세종특별자치시'}\n",
      "result1\n",
      "{'충청북도 청원군', '세종특별자치시 세종시', '인천광역시 남구'}\n",
      "\n",
      "result2\n",
      "set()\n",
      "result1\n",
      "{'충청북도 보은군', '전라북도 무주군', '강원도 인제군', '경상북도 울릉군', '강원도 영월군', '충청남도 서천군', '경상북도 영양군', '강원도 양양군', '경상남도 고성군', '충청남도 금산군', '전라남도 진도군', '강원도 양구군', '부산광역시 서구', '전라남도 보성군', '경상남도 의령군', '세종특별자치시 세종시', '경상북도 성주군', '전라북도 고창군', '전라북도 정읍시', '강원도 평창군', '전라남도 해남군', '전라남도 강진군', '강원도 정선군', '강원도 고성군', '강원도 철원군', '전라북도 진안군', '전라북도 순창군', '인천광역시 남구', '경기도 연천군', '경상북도 군위군', '전라북도 임실군', '충청북도 청원군', '전라남도 장흥군', '전라남도 구례군', '충청북도 옥천군', '경기도 의왕시', '충청남도 청양군', '경상북도 청도군', '충청남도 예산군', '서울특별시 서대문구', '부산광역시 영도구', '경상북도 의성군', '인천광역시 옹진군', '전라북도 장수군', '전라남도 함평군', '경상남도 거창군', '경상북도 고령군', '경상북도 봉화군', '경상북도 상주시', '전라남도 신안군', '강원도 화천군', '강원도 태백시', '전라남도 고흥군', '충청북도 괴산군', '경상북도 영덕군', '전라남도 완도군', '전라북도 남원시', '전라남도 장성군', '인천광역시 강화군'}\n",
      "\n",
      "result2\n",
      "{'세종특별자치시 세종특별자치시'}\n",
      "result1\n",
      "{'충청북도 청원군', '인천광역시 남구'}\n",
      "\n",
      "result2\n",
      "set()\n",
      "result1\n",
      "{'전라북도 무주군', '강원도 인제군', '경상북도 울릉군', '강원도 영월군', '인천광역시 동구', '강원도 양양군', '전라남도 진도군', '전라남도 보성군', '세종특별자치시 세종시', '강원도 횡성군', '경상북도 성주군', '충청북도 증평군', '경기도 과천시', '전라남도 강진군', '강원도 고성군', '강원도 철원군', '서울특별시 중랑구', '경상북도 예천군', '경상북도 청송군', '인천광역시 남구', '경기도 가평군', '경기도 연천군', '경상북도 울진군', '경상북도 군위군', '전라북도 순창군', '충청북도 단양군', '경상북도 영천시', '충청북도 청원군', '전라남도 구례군', '경상북도 청도군', '경상남도 합천군', '경상북도 의성군', '인천광역시 옹진군', '전라북도 장수군', '경상남도 함양군', '전라남도 함평군', '경상북도 봉화군', '전라남도 신안군', '강원도 태백시', '경상남도 산청군', '충청남도 태안군', '경상북도 영덕군', '전라남도 장성군', '인천광역시 강화군'}\n",
      "\n",
      "result2\n",
      "{'세종특별자치시 세종특별자치시'}\n",
      "result1\n",
      "{'충청북도 청원군', '세종특별자치시 세종시', '인천광역시 남구'}\n",
      "\n",
      "result2\n",
      "{'세종특별자치시 세종특별자치시'}\n",
      "result1\n",
      "{'충청북도 청원군', '세종특별자치시 세종시', '제주특별자치도 서귀포시', '제주특별자치도 제주시'}\n",
      "\n",
      "result2\n",
      "{'제주특별자치도 제주', '세종특별자치시 세종특별자치시'}\n",
      "result1\n",
      "{'충청북도 청원군', '강원도 영월군', '충청남도 계룡시', '인천광역시 연수구', '인천광역시 남구', '세종특별자치시 세종시', '부산광역시 중구', '인천광역시 옹진군', '충청북도 증평군'}\n",
      "\n",
      "result2\n",
      "{'세종특별자치시 세종특별자치시'}\n",
      "result1\n",
      "{'충청북도 청원군', '세종특별자치시 세종시'}\n",
      "\n",
      "result2\n",
      "set()\n"
     ]
    }
   ],
   "source": [
    "for file in files:\n",
    "    temp = pd.read_csv(file, encoding='cp949')\n",
    "    check(temp)"
   ]
  },
  {
   "cell_type": "code",
   "execution_count": 83,
   "metadata": {},
   "outputs": [
    {
     "data": {
      "text/plain": [
       "{'강원도 고성군',\n",
       " '강원도 양구군',\n",
       " '강원도 양양군',\n",
       " '강원도 영월군',\n",
       " '강원도 인제군',\n",
       " '강원도 정선군',\n",
       " '강원도 철원군',\n",
       " '강원도 태백시',\n",
       " '강원도 평창군',\n",
       " '강원도 화천군',\n",
       " '강원도 횡성군',\n",
       " '경기도 가평군',\n",
       " '경기도 과천시',\n",
       " '경기도 연천군',\n",
       " '경기도 의왕시',\n",
       " '경상남도 거창군',\n",
       " '경상남도 고성군',\n",
       " '경상남도 산청군',\n",
       " '경상남도 의령군',\n",
       " '경상남도 함양군',\n",
       " '경상남도 합천군',\n",
       " '경상북도 고령군',\n",
       " '경상북도 군위군',\n",
       " '경상북도 봉화군',\n",
       " '경상북도 상주시',\n",
       " '경상북도 성주군',\n",
       " '경상북도 영덕군',\n",
       " '경상북도 영양군',\n",
       " '경상북도 영천시',\n",
       " '경상북도 예천군',\n",
       " '경상북도 울릉군',\n",
       " '경상북도 울진군',\n",
       " '경상북도 의성군',\n",
       " '경상북도 청도군',\n",
       " '경상북도 청송군',\n",
       " '부산광역시 서구',\n",
       " '부산광역시 영도구',\n",
       " '부산광역시 중구',\n",
       " '서울특별시 서대문구',\n",
       " '서울특별시 중랑구',\n",
       " '세종특별자치시 세종시',\n",
       " '인천광역시 강화군',\n",
       " '인천광역시 남구',\n",
       " '인천광역시 동구',\n",
       " '인천광역시 연수구',\n",
       " '인천광역시 옹진군',\n",
       " '전라남도 강진군',\n",
       " '전라남도 고흥군',\n",
       " '전라남도 구례군',\n",
       " '전라남도 보성군',\n",
       " '전라남도 신안군',\n",
       " '전라남도 완도군',\n",
       " '전라남도 장성군',\n",
       " '전라남도 장흥군',\n",
       " '전라남도 진도군',\n",
       " '전라남도 함평군',\n",
       " '전라남도 해남군',\n",
       " '전라남도 화순군',\n",
       " '전라북도 고창군',\n",
       " '전라북도 남원시',\n",
       " '전라북도 무주군',\n",
       " '전라북도 순창군',\n",
       " '전라북도 임실군',\n",
       " '전라북도 장수군',\n",
       " '전라북도 정읍시',\n",
       " '전라북도 진안군',\n",
       " '제주특별자치도 서귀포시',\n",
       " '제주특별자치도 제주시',\n",
       " '충청남도 계룡시',\n",
       " '충청남도 금산군',\n",
       " '충청남도 서천군',\n",
       " '충청남도 예산군',\n",
       " '충청남도 청양군',\n",
       " '충청남도 태안군',\n",
       " '충청북도 괴산군',\n",
       " '충청북도 단양군',\n",
       " '충청북도 보은군',\n",
       " '충청북도 옥천군',\n",
       " '충청북도 증평군',\n",
       " '충청북도 청원군'}"
      ]
     },
     "execution_count": 83,
     "metadata": {},
     "output_type": "execute_result"
    }
   ],
   "source": [
    "check1"
   ]
  },
  {
   "cell_type": "code",
   "execution_count": 84,
   "metadata": {},
   "outputs": [
    {
     "data": {
      "text/plain": [
       "{'경기도 권선구',\n",
       " '경기도 기흥구',\n",
       " '경기도 단원구',\n",
       " '경기도 덕양구',\n",
       " '경기도 동안구',\n",
       " '경기도 만안구',\n",
       " '경기도 분당구',\n",
       " '경기도 상록구',\n",
       " '경기도 수정구',\n",
       " '경기도 수지구',\n",
       " '경기도 영통구',\n",
       " '경기도 일산동구',\n",
       " '경기도 일산서구',\n",
       " '경기도 장안구',\n",
       " '경기도 중원구',\n",
       " '경기도 처인구',\n",
       " '경기도 팔달구',\n",
       " '경상남도 마산합포구',\n",
       " '경상남도 마산회원구',\n",
       " '경상남도 성산구',\n",
       " '경상남도 의창구',\n",
       " '경상남도 진해구',\n",
       " '경상북도 남구',\n",
       " '경상북도 북구',\n",
       " '세종특별자치시 세종특별자치시',\n",
       " '전라북도 덕진구',\n",
       " '전라북도 완산구',\n",
       " '제주특별자치도 제주',\n",
       " '충청남도 동남구',\n",
       " '충청남도 서북구',\n",
       " '충청북도 상당구',\n",
       " '충청북도 서원구',\n",
       " '충청북도 청원구',\n",
       " '충청북도 흥덕구'}"
      ]
     },
     "execution_count": 84,
     "metadata": {},
     "output_type": "execute_result"
    }
   ],
   "source": [
    "check2"
   ]
  },
  {
   "cell_type": "code",
   "execution_count": 8,
   "metadata": {},
   "outputs": [
    {
     "name": "stdout",
     "output_type": "stream",
     "text": [
      "result1\n",
      "set()\n",
      "\n",
      "result2\n",
      "{'경상남도 마산회원구', '양주시 양주시', '경기도 ㆍ값없음', '화성시 화성시', '경상남도 마산합포구'}\n"
     ]
    }
   ],
   "source": [
    "check(data)"
   ]
  },
  {
   "cell_type": "code",
   "execution_count": 94,
   "metadata": {},
   "outputs": [
    {
     "data": {
      "text/plain": [
       "set()"
      ]
     },
     "execution_count": 94,
     "metadata": {},
     "output_type": "execute_result"
    }
   ],
   "source": [
    "check1"
   ]
  },
  {
   "cell_type": "code",
   "execution_count": 89,
   "metadata": {},
   "outputs": [
    {
     "data": {
      "text/plain": [
       "{'경기도 권선구',\n",
       " '경기도 기흥구',\n",
       " '경기도 단원구',\n",
       " '경기도 덕양구',\n",
       " '경기도 동안구',\n",
       " '경기도 만안구',\n",
       " '경기도 분당구',\n",
       " '경기도 상록구',\n",
       " '경기도 수정구',\n",
       " '경기도 수지구',\n",
       " '경기도 영통구',\n",
       " '경기도 일산동구',\n",
       " '경기도 일산서구',\n",
       " '경기도 장안구',\n",
       " '경기도 중원구',\n",
       " '경기도 처인구',\n",
       " '경기도 팔달구',\n",
       " '경상남도 마산합포구',\n",
       " '경상남도 마산회원구',\n",
       " '경상남도 성산구',\n",
       " '경상남도 의창구',\n",
       " '경상남도 진해구',\n",
       " '경상북도 남구',\n",
       " '경상북도 북구',\n",
       " '세종특별자치시 세종특별자치시',\n",
       " '전라북도 덕진구',\n",
       " '전라북도 완산구',\n",
       " '제주특별자치도 제주',\n",
       " '충청남도 동남구',\n",
       " '충청남도 서북구',\n",
       " '충청북도 상당구',\n",
       " '충청북도 서원구',\n",
       " '충청북도 청원구',\n",
       " '충청북도 흥덕구'}"
      ]
     },
     "execution_count": 89,
     "metadata": {},
     "output_type": "execute_result"
    }
   ],
   "source": [
    "check2"
   ]
  },
  {
   "cell_type": "code",
   "execution_count": 95,
   "metadata": {},
   "outputs": [],
   "source": [
    "data.to_csv('data/processed/data.csv')\n"
   ]
  },
  {
   "cell_type": "code",
   "execution_count": null,
   "metadata": {},
   "outputs": [],
   "source": []
  }
 ],
 "metadata": {
  "interpreter": {
   "hash": "656a610cf7529c094650ddc82c723fb6eadfe6af02f42af438dd409fb1ebbdba"
  },
  "kernelspec": {
   "display_name": "Python 3.9.7 ('base')",
   "language": "python",
   "name": "python3"
  },
  "language_info": {
   "codemirror_mode": {
    "name": "ipython",
    "version": 3
   },
   "file_extension": ".py",
   "mimetype": "text/x-python",
   "name": "python",
   "nbconvert_exporter": "python",
   "pygments_lexer": "ipython3",
   "version": "3.9.7"
  },
  "orig_nbformat": 4
 },
 "nbformat": 4,
 "nbformat_minor": 2
}
